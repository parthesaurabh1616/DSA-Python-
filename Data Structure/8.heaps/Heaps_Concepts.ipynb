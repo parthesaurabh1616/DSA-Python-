{
  "nbformat": 4,
  "nbformat_minor": 0,
  "metadata": {
    "colab": {
      "provenance": []
    },
    "kernelspec": {
      "name": "python3",
      "display_name": "Python 3"
    },
    "language_info": {
      "name": "python"
    }
  },
  "cells": [
    {
      "cell_type": "markdown",
      "source": [
        "**1. Kth Largest Element**"
      ],
      "metadata": {
        "id": "n_CGblqTHqIR"
      }
    },
    {
      "cell_type": "markdown",
      "source": [
        "**Problem:** Find the kth largest element in an array."
      ],
      "metadata": {
        "id": "l9uwmsqBHtFE"
      }
    },
    {
      "cell_type": "markdown",
      "source": [
        "**Explanation:**\n",
        "\n",
        "- We use a min-heap to store the k largest elements.\n",
        "\n",
        "- As we iterate through the array, we maintain the size of the heap to be k."
      ],
      "metadata": {
        "id": "yHxbJFobHwTp"
      }
    },
    {
      "cell_type": "code",
      "execution_count": 1,
      "metadata": {
        "colab": {
          "base_uri": "https://localhost:8080/"
        },
        "id": "tToMsxbIHlQ_",
        "outputId": "c703cd49-0a32-4ea9-b51e-5ec1d20b81cd"
      },
      "outputs": [
        {
          "output_type": "stream",
          "name": "stdout",
          "text": [
            "5\n"
          ]
        }
      ],
      "source": [
        "import heapq\n",
        "\n",
        "def kth_largest_element(nums, k):\n",
        "  # Create a min_heap with the first k elements\n",
        "  min_heap = nums[:k]\n",
        "  heapq.heapify(min_heap)\n",
        "  for num in nums[k:]:\n",
        "    if num > min_heap[0]:\n",
        "      # Replace the smallest element with the current number if it's larger\n",
        "      heapq.heapreplace(min_heap, num)\n",
        "  return min_heap[0]\n",
        "\n",
        "nums = [3,2,1,5,6,4]\n",
        "k = 2\n",
        "print(kth_largest_element(nums, k))"
      ]
    },
    {
      "cell_type": "markdown",
      "source": [
        "**Explanation of Functions and Methods:**\n",
        "\n",
        "- **import heapq:** Imports the heapq module for heap operations.\n",
        "\n",
        "- **heapq.heapify(min_heap):** Converts the list min_heap into a heap, in-place, in linear time.\n",
        "\n",
        "- **heapq.heapreplace(min_heap, num):** Pops the smallest element from the heap and pushes the new number num onto the heap."
      ],
      "metadata": {
        "id": "HbeU5-qOMGfu"
      }
    },
    {
      "cell_type": "markdown",
      "source": [
        "**2. Merge k Sorted Lists**"
      ],
      "metadata": {
        "id": "tARozfQiMPVP"
      }
    },
    {
      "cell_type": "markdown",
      "source": [
        "**Problem:** Merge k sorted linked lists into one sorted list.\n",
        "\n",
        "**Explanation:**\n",
        "\n",
        "- We use a min-heap to store the smallest element from each list.\n",
        "\n",
        "- As we extract the smallest element, we add the next element from the same list to the heap."
      ],
      "metadata": {
        "id": "kUvGOVhFMT2U"
      }
    },
    {
      "cell_type": "code",
      "source": [
        "import heapq\n",
        "\n",
        "class ListNode:\n",
        "    def __init__(self, val=0, next=None):\n",
        "        self.val = val\n",
        "        self.next = next\n",
        "\n",
        "    # Add the comparison method for heap operations\n",
        "    def __lt__(self, other):\n",
        "      return self.val < other.val\n",
        "\n",
        "def merge_k_lists(lists):\n",
        "    heap = []\n",
        "    # Add the head of each list to the heap\n",
        "    for l in lists:\n",
        "        if l:\n",
        "            heapq.heappush(heap, l) # Push a tuple of (value, node)\n",
        "    dummy = ListNode()\n",
        "    current = dummy\n",
        "    while heap:\n",
        "        # Extract the smallest element from the heap\n",
        "        node = heapq.heappop(heap) # pop tuple of (val, node)\n",
        "        current.next = node\n",
        "        current = current.next\n",
        "        if node.next:\n",
        "            # Add the next element from the same list to the heap\n",
        "            heapq.heappush(heap,  node.next) # Push the next node from the same list with its value\n",
        "    return dummy.next\n",
        "\n",
        "# Example usage\n",
        "l1 = ListNode(1, ListNode(4, ListNode(5)))\n",
        "l2 = ListNode(1, ListNode(3, ListNode(4)))\n",
        "l3 = ListNode(2, ListNode(6))\n",
        "lists = [l1, l2, l3]\n",
        "merged_list = merge_k_lists(lists)\n",
        "current = merged_list\n",
        "while current:\n",
        "    print(current.val, end=\" \")\n",
        "    current = current.next\n"
      ],
      "metadata": {
        "colab": {
          "base_uri": "https://localhost:8080/"
        },
        "id": "MSnSUTqwL_PZ",
        "outputId": "97ad8a51-df3f-40d7-c1f0-8b57e9750e34"
      },
      "execution_count": 8,
      "outputs": [
        {
          "output_type": "stream",
          "name": "stdout",
          "text": [
            "1 1 2 3 4 4 5 6 "
          ]
        }
      ]
    },
    {
      "cell_type": "markdown",
      "source": [
        "**Explanation of Functions and Methods:**\n",
        "\n",
        "- **heapq.heappush(heap, (l.val, l)):** Pushes a tuple (val, node) onto the heap. The heap is ordered by the first element of the tuple, which is val.\n",
        "\n",
        "- **heapq.heappop(heap):** Pops the smallest element from the heap. Since we pushed tuples, it pops the tuple with the smallest val.\n",
        "\n",
        "- **ListNode(val, next):** A class representing a node in a singly linked list. val is the value of the node, and next is a reference to the next node in the list."
      ],
      "metadata": {
        "id": "jM_IhQy3P0Al"
      }
    },
    {
      "cell_type": "code",
      "source": [],
      "metadata": {
        "id": "dWdDjKMhNri5"
      },
      "execution_count": null,
      "outputs": []
    }
  ]
}