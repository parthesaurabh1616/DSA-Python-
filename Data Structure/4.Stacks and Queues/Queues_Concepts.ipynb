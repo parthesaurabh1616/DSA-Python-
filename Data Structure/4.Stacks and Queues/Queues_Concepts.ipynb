{
  "nbformat": 4,
  "nbformat_minor": 0,
  "metadata": {
    "colab": {
      "provenance": []
    },
    "kernelspec": {
      "name": "python3",
      "display_name": "Python 3"
    },
    "language_info": {
      "name": "python"
    }
  },
  "cells": [
    {
      "cell_type": "markdown",
      "source": [
        "**1. Enqueue and Dequeue**"
      ],
      "metadata": {
        "id": "1HUzjg4G76xQ"
      }
    },
    {
      "cell_type": "markdown",
      "source": [
        "**Example Problem:** Implement a basic queue with enqueue and dequeue operations."
      ],
      "metadata": {
        "id": "B_PJOnY_7_Sw"
      }
    },
    {
      "cell_type": "code",
      "execution_count": 1,
      "metadata": {
        "colab": {
          "base_uri": "https://localhost:8080/"
        },
        "id": "NYlTmue87yqj",
        "outputId": "426ff4bf-f51d-453b-e90a-c9ebf1fae7fe"
      },
      "outputs": [
        {
          "output_type": "stream",
          "name": "stdout",
          "text": [
            "1\n",
            "2\n"
          ]
        }
      ],
      "source": [
        "class Queue:\n",
        "  def __init__(self):\n",
        "    self.queue = []\n",
        "\n",
        "  def enqueue(self, val):\n",
        "    self.queue.append(val)\n",
        "\n",
        "  def dequeue(self):\n",
        "    if not self.is_empty():\n",
        "      return self.queue.pop(0)\n",
        "    return None\n",
        "\n",
        "  def peek(self):\n",
        "    if not self.is_empty():\n",
        "      return self.queue[0]\n",
        "    return None\n",
        "\n",
        "  def is_empty(self):\n",
        "    return len(self.queue) == 0\n",
        "\n",
        "queue = Queue()\n",
        "queue.enqueue(1)\n",
        "queue.enqueue(2)\n",
        "queue.enqueue(3)\n",
        "print(queue.dequeue())\n",
        "print(queue.peek())"
      ]
    },
    {
      "cell_type": "markdown",
      "source": [
        "**2. Implement Queue using Stacks**"
      ],
      "metadata": {
        "id": "fGjy5Cij9AEP"
      }
    },
    {
      "cell_type": "markdown",
      "source": [
        "**Problem:** Implement a queue using two stacks."
      ],
      "metadata": {
        "id": "ZJ6w8Quf9DXX"
      }
    },
    {
      "cell_type": "code",
      "source": [
        "class MyQueue:\n",
        "  def __init__(self):\n",
        "    self.stack1 = []\n",
        "    self.stack2 = []\n",
        "\n",
        "  def push(self, x):\n",
        "    self.stack1.append(x)\n",
        "\n",
        "  def pop(self):\n",
        "    self.peek()\n",
        "    return self.stack2.pop()\n",
        "\n",
        "  def peek(self):\n",
        "    if not self.stack2:\n",
        "      while self.stack1:\n",
        "        self.stack2.append(self.stack1.pop())\n",
        "    return self.stack2[-1]\n",
        "\n",
        "  def empty(self):\n",
        "    return not self.stack1 and not self.stack2\n",
        "\n",
        "queue = MyQueue()\n",
        "queue.push(1)\n",
        "queue.push(2)\n",
        "print(queue.peek())\n",
        "print(queue.pop())\n",
        "print(queue.empty())"
      ],
      "metadata": {
        "colab": {
          "base_uri": "https://localhost:8080/"
        },
        "id": "xHhXv_ix8nrt",
        "outputId": "cb3a1d46-f967-4b54-864b-78660f97598f"
      },
      "execution_count": 2,
      "outputs": [
        {
          "output_type": "stream",
          "name": "stdout",
          "text": [
            "1\n",
            "1\n",
            "False\n"
          ]
        }
      ]
    },
    {
      "cell_type": "markdown",
      "source": [
        "**3. Sliding Window Maximum**"
      ],
      "metadata": {
        "id": "iIy3hYhx-SYP"
      }
    },
    {
      "cell_type": "markdown",
      "source": [
        "**Problem:** Find the maximum value in each sliding window of size k."
      ],
      "metadata": {
        "id": "NAnJ2GSf-Uvf"
      }
    },
    {
      "cell_type": "code",
      "source": [
        "from collections import deque\n",
        "\n",
        "def max_sliding_window(nums, k):\n",
        "  dq = deque()\n",
        "  result = []\n",
        "\n",
        "  for i in range(len(nums)):\n",
        "    while dq and dq[0] < i - k + 1:\n",
        "      dq.popleft()\n",
        "    while dq and nums[dq[-1]] < nums[i]:\n",
        "      dq.pop()\n",
        "    dq.append(i)\n",
        "    if i >= k - 1:\n",
        "      result.append(nums[dq[0]])\n",
        "  return result\n",
        "\n",
        "nums = [1,3,-1,-3,5,3,6,7]\n",
        "k = 3\n",
        "print(max_sliding_window(nums, k))"
      ],
      "metadata": {
        "colab": {
          "base_uri": "https://localhost:8080/"
        },
        "id": "yvRrNaOI9umc",
        "outputId": "a5a77903-e86a-427f-8c62-4d832fbe5c8a"
      },
      "execution_count": 3,
      "outputs": [
        {
          "output_type": "stream",
          "name": "stdout",
          "text": [
            "[3, 3, 5, 5, 6, 7]\n"
          ]
        }
      ]
    },
    {
      "cell_type": "markdown",
      "source": [
        "**4. Moving Average from Data Stream**"
      ],
      "metadata": {
        "id": "IYnBQrTf_rTP"
      }
    },
    {
      "cell_type": "markdown",
      "source": [
        "**Problem:** Calculate the moving average of all integers in a sliding window of size k."
      ],
      "metadata": {
        "id": "DE9e3uCB_vtU"
      }
    },
    {
      "cell_type": "code",
      "source": [
        "from collections import deque\n",
        "\n",
        "class MovingAverage:\n",
        "  def __init__(self, size):\n",
        "    self.size = size\n",
        "    self.queue = deque()\n",
        "    self.sum = 0\n",
        "\n",
        "  def next(self, val):\n",
        "    if len(self.queue) == self.size:\n",
        "      self.sum -= self.queue.popleft()\n",
        "    self.queue.append(val)\n",
        "    self.sum += val\n",
        "    return self.sum / len(self.queue)\n",
        "\n",
        "m = MovingAverage(3)\n",
        "print(m.next(1))\n",
        "print(m.next(10))\n",
        "print(round(m.next(3),2))\n",
        "print(m.next(5))"
      ],
      "metadata": {
        "colab": {
          "base_uri": "https://localhost:8080/"
        },
        "id": "BtBOgo4q-518",
        "outputId": "ee1ac9c7-18c8-4642-aeae-f1d95cd6831f"
      },
      "execution_count": 7,
      "outputs": [
        {
          "output_type": "stream",
          "name": "stdout",
          "text": [
            "1.0\n",
            "5.5\n",
            "4.67\n",
            "6.0\n"
          ]
        }
      ]
    },
    {
      "cell_type": "code",
      "source": [],
      "metadata": {
        "id": "2y3vpcouAdI2"
      },
      "execution_count": null,
      "outputs": []
    }
  ]
}