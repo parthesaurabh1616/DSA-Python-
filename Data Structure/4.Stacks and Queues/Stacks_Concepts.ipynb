{
  "nbformat": 4,
  "nbformat_minor": 0,
  "metadata": {
    "colab": {
      "provenance": []
    },
    "kernelspec": {
      "name": "python3",
      "display_name": "Python 3"
    },
    "language_info": {
      "name": "python"
    }
  },
  "cells": [
    {
      "cell_type": "markdown",
      "source": [
        "**1. Push and Pop**"
      ],
      "metadata": {
        "id": "MuJ1r23jy7X3"
      }
    },
    {
      "cell_type": "markdown",
      "source": [
        "**Problem:** Implement a basic stack with push and pop operations."
      ],
      "metadata": {
        "id": "0JCXXcoey-Pz"
      }
    },
    {
      "cell_type": "code",
      "execution_count": 4,
      "metadata": {
        "colab": {
          "base_uri": "https://localhost:8080/"
        },
        "id": "B67mKgeEyUy0",
        "outputId": "bf31a481-03ff-46c7-db96-f4e732cf2118"
      },
      "outputs": [
        {
          "output_type": "stream",
          "name": "stdout",
          "text": [
            "3\n",
            "<bound method Stack.peek of <__main__.Stack object at 0x7cb701fbd4d0>>\n"
          ]
        }
      ],
      "source": [
        "class Stack:\n",
        "  def __init__(self):\n",
        "    self.stack = []\n",
        "\n",
        "  def push(self, val):\n",
        "    self.stack.append(val)\n",
        "\n",
        "  def pop(self):\n",
        "    if not self.is_empty():\n",
        "      return self.stack.pop()\n",
        "    return None\n",
        "\n",
        "  def peek(self):\n",
        "    if not self.is_empty():\n",
        "      return self.stack[-1]\n",
        "    return None\n",
        "\n",
        "  def is_empty(self):\n",
        "    return len(self.stack) == 0\\\n",
        "\n",
        "stack = Stack()\n",
        "stack.push(1)\n",
        "stack.push(2)\n",
        "stack.push(3)\n",
        "print(stack.pop())\n",
        "print(stack.peek)"
      ]
    },
    {
      "cell_type": "markdown",
      "source": [
        "**2. Valid Parentheses**"
      ],
      "metadata": {
        "id": "dnZKs73y0Y2L"
      }
    },
    {
      "cell_type": "markdown",
      "source": [
        "**Problem:** Check if a string of parentheses is valid."
      ],
      "metadata": {
        "id": "7DYNjgJK0cbX"
      }
    },
    {
      "cell_type": "code",
      "source": [
        "def is_valid_parentheses(s):\n",
        "  stack = []\n",
        "  mapping = {')': '(', '}': '{', ']': '['}\n",
        "  for char in s:\n",
        "    if char in mapping:\n",
        "      top_element = stack.pop() if stack else '#'\n",
        "      if mapping[char] != top_element:\n",
        "        return False\n",
        "\n",
        "      else:\n",
        "        stack.append(char)\n",
        "  return not stack\n",
        "\n",
        "s = \"({[]})\"\n",
        "print(is_valid_parentheses(s))"
      ],
      "metadata": {
        "colab": {
          "base_uri": "https://localhost:8080/"
        },
        "id": "HXeRd5yYzl26",
        "outputId": "3de2335a-e18e-4f8f-c499-40694a743749"
      },
      "execution_count": 6,
      "outputs": [
        {
          "output_type": "stream",
          "name": "stdout",
          "text": [
            "False\n"
          ]
        }
      ]
    },
    {
      "cell_type": "markdown",
      "source": [
        "**3.Min Stack**"
      ],
      "metadata": {
        "id": "WMG0WUTH18hV"
      }
    },
    {
      "cell_type": "markdown",
      "source": [
        "**Problem:** Design a stack that supports push, pop, top, and retrieving the minimum element in constant time."
      ],
      "metadata": {
        "id": "5d0F_Pvj1-9Z"
      }
    },
    {
      "cell_type": "code",
      "source": [
        "class MinStack:\n",
        "  def __init__(self):\n",
        "    self.stack = []\n",
        "    self.min_stack = []\n",
        "\n",
        "  def push(self,val):\n",
        "    self.stack.append(val)\n",
        "    if not self.min_stack or val <= self.min_stack[-1]:\n",
        "      self.min_stack.append(val)\n",
        "\n",
        "  def pop(self):\n",
        "    if self.stack:\n",
        "      val = self.stack.pop()\n",
        "      if val == self.min_stack[-1]:\n",
        "        self.min_stack.pop()\n",
        "      return val\n",
        "    return None\n",
        "\n",
        "  def top(self):\n",
        "    return self.stack[-1] if self.stack else None\n",
        "\n",
        "  def get_min(self):\n",
        "    return self.min_stack[-1] if self.min_stack else None\n",
        "\n",
        "min_stack = MinStack()\n",
        "min_stack.push(-2)\n",
        "min_stack.push(0)\n",
        "min_stack.push(-3)\n",
        "print(min_stack.get_min())\n",
        "min_stack.pop()\n",
        "print(min_stack.top())\n",
        "print(min_stack.get_min())"
      ],
      "metadata": {
        "colab": {
          "base_uri": "https://localhost:8080/"
        },
        "id": "WmzGMfTe08wG",
        "outputId": "23de4209-8620-472f-8711-7c9e2d941a9a"
      },
      "execution_count": 7,
      "outputs": [
        {
          "output_type": "stream",
          "name": "stdout",
          "text": [
            "-3\n",
            "0\n",
            "-2\n"
          ]
        }
      ]
    },
    {
      "cell_type": "markdown",
      "source": [
        "**4. Evaluate Reverse Polish Notation**"
      ],
      "metadata": {
        "id": "t3r7rs513kpt"
      }
    },
    {
      "cell_type": "markdown",
      "source": [
        "**Problem:** Evaluate the value of an arithmetic expression in Reverse Polish Notation."
      ],
      "metadata": {
        "id": "IThf2eem3neV"
      }
    },
    {
      "cell_type": "code",
      "source": [
        "def eval_rpn(tokens):\n",
        "  stack = []\n",
        "  for token in tokens:\n",
        "    if token not in \"+-*/\":\n",
        "      stack.append(int(token))\n",
        "    else:\n",
        "      b = stack.pop()\n",
        "      a = stack.pop()\n",
        "      if token == '+':\n",
        "        stack.append(a + b)\n",
        "      elif token == '-':\n",
        "        stack.append(a - b)\n",
        "      elif token == '*':\n",
        "        stack.append(a * b)\n",
        "      else:\n",
        "        stack.append(int(a / b))\n",
        "\n",
        "    return stack[0]\n",
        "\n",
        "tokens = [\"2\",\"1\",\"+\",\"3\",\"*\"]\n",
        "print(eval_rpn(tokens))"
      ],
      "metadata": {
        "colab": {
          "base_uri": "https://localhost:8080/"
        },
        "id": "NWJPIFTD28aS",
        "outputId": "eb08b687-0b3a-4f97-96c9-c529f0e83b00"
      },
      "execution_count": 8,
      "outputs": [
        {
          "output_type": "stream",
          "name": "stdout",
          "text": [
            "2\n"
          ]
        }
      ]
    },
    {
      "cell_type": "code",
      "source": [],
      "metadata": {
        "id": "IUD_oonN4Mrl"
      },
      "execution_count": null,
      "outputs": []
    }
  ]
}