{
  "nbformat": 4,
  "nbformat_minor": 0,
  "metadata": {
    "colab": {
      "provenance": []
    },
    "kernelspec": {
      "name": "python3",
      "display_name": "Python 3"
    },
    "language_info": {
      "name": "python"
    }
  },
  "cells": [
    {
      "cell_type": "markdown",
      "source": [
        "**1. Graph Representation**:\n",
        "Graphs can be represented using an adjacency list or adjacency matrix. An adjacency list is a collection of lists or dictionaries where each list corresponds to a node and contains a list of its neighbors."
      ],
      "metadata": {
        "id": "rAyPNAgS4mzQ"
      }
    },
    {
      "cell_type": "markdown",
      "source": [
        "**Example Problem:** Represent a graph using an adjacency list."
      ],
      "metadata": {
        "id": "_U61quIx4tXO"
      }
    },
    {
      "cell_type": "code",
      "execution_count": 2,
      "metadata": {
        "colab": {
          "base_uri": "https://localhost:8080/"
        },
        "id": "f5eNR1yH4jF5",
        "outputId": "f780c7ba-6d7a-4c3f-f1fc-a2e41279e6f6"
      },
      "outputs": [
        {
          "output_type": "stream",
          "name": "stdout",
          "text": [
            "{'A': ['B', 'C'], 'B': ['A', 'D', 'E'], 'C': ['A', 'F'], 'D': ['B'], 'E': ['B', 'F'], 'F': ['C', 'E']}\n"
          ]
        }
      ],
      "source": [
        "# Representing a graph as an adjacency list\n",
        "graph = {\n",
        "    'A': ['B','C'],\n",
        "    'B': ['A','D','E'],\n",
        "    'C': ['A','F'],\n",
        "    'D': ['B'],\n",
        "    'E': ['B','F'],\n",
        "    'F': ['C','E']\n",
        "}\n",
        "\n",
        "# Example Usage\n",
        "print(graph)"
      ]
    },
    {
      "cell_type": "markdown",
      "source": [
        "**Explanation:**\n",
        "\n",
        "- We use a dictionary where keys are nodes and values are lists of neighboring nodes.\n",
        "\n",
        "- For example, node 'A' is connected to nodes 'B' and 'C'."
      ],
      "metadata": {
        "id": "wM7H1xKY5LKC"
      }
    },
    {
      "cell_type": "markdown",
      "source": [
        "**2. Breadth-First Search (BFS):**\n",
        "Breadth-First Search is a graph traversal algorithm that starts from a source node and explores all its neighbors before moving to the next level of neighbors."
      ],
      "metadata": {
        "id": "NZimp0Py5VRH"
      }
    },
    {
      "cell_type": "markdown",
      "source": [
        "**Example Problem:** Perform BFS on a graph."
      ],
      "metadata": {
        "id": "QLunty2F5ZA7"
      }
    },
    {
      "cell_type": "code",
      "source": [
        "from collections import deque\n",
        "\n",
        "def bfs(graph, start):\n",
        "  visited = set()  # Set to keep track of visited nodes\n",
        "  queue = deque([start])\n",
        "  result = []\n",
        "\n",
        "  while queue:\n",
        "    node = queue.popleft()\n",
        "    if node not in visited:\n",
        "      result.append(node)\n",
        "      visited.add(node)\n",
        "      for neighbor in graph[node]:\n",
        "        if neighbor not in visited:\n",
        "          queue.append(neighbor)\n",
        "\n",
        "  return result\n",
        "\n",
        "graph = {\n",
        "    'A': ['B','C'],\n",
        "    'B': ['A','D','E'],\n",
        "    'C': ['A','F'],\n",
        "    'D': ['B'],\n",
        "    'E': ['B','F'],\n",
        "    'F': ['C','E']\n",
        "}\n",
        "\n",
        "print(bfs(graph, 'A'))"
      ],
      "metadata": {
        "colab": {
          "base_uri": "https://localhost:8080/"
        },
        "id": "MCIwqZOs5GJi",
        "outputId": "6c81133d-ee3a-47ff-8962-3e71c223ed01"
      },
      "execution_count": 3,
      "outputs": [
        {
          "output_type": "stream",
          "name": "stdout",
          "text": [
            "['A', 'B', 'C', 'D', 'E', 'F']\n"
          ]
        }
      ]
    },
    {
      "cell_type": "markdown",
      "source": [
        "**Explanation:**\n",
        "\n",
        "- **visited:** A set to keep track of visited nodes to avoid revisiting them.\n",
        "\n",
        "- **queue:** A deque (double-ended queue) to implement the BFS queue.\n",
        "\n",
        "- **result:** A list to store the order of visited nodes.\n",
        "\n",
        "- The algorithm starts by adding the source node to the queue and marking it as visited.\n",
        "\n",
        "- It then iterates through the queue, visiting each node, adding its neighbors to the queue, and marking them as visited."
      ],
      "metadata": {
        "id": "vjNTS28z6Ziq"
      }
    },
    {
      "cell_type": "markdown",
      "source": [
        "**3. Depth-First Search (DFS):**\n",
        "Depth-First Search is a graph traversal algorithm that starts from a source node and explores as far as possible along each branch before backtracking."
      ],
      "metadata": {
        "id": "mZyQ35uQ7OWW"
      }
    },
    {
      "cell_type": "markdown",
      "source": [
        "**Example Problem:** Perform DFS on a graph."
      ],
      "metadata": {
        "id": "nTlhdskt7R4D"
      }
    },
    {
      "cell_type": "code",
      "source": [
        "def dfs(graph, start, visited=None):\n",
        "  if visited is None:\n",
        "    visited = set()\n",
        "  visited.add(start)\n",
        "  result = [start]\n",
        "\n",
        "  for neighbor in graph[start]:\n",
        "    if neighbor not in visited:\n",
        "      result.extend(dfs(graph, neighbor, visited))\n",
        "  return result\n",
        "\n",
        "graph = {\n",
        "    'A': ['B','C'],\n",
        "    'B': ['A','D','E'],\n",
        "    'C': ['A','F'],\n",
        "    'D': ['B'],\n",
        "    'E': ['B','F'],\n",
        "    'F': ['C','E']\n",
        "}\n",
        "print(dfs(graph, 'A'))"
      ],
      "metadata": {
        "colab": {
          "base_uri": "https://localhost:8080/"
        },
        "id": "7n8WqVOO6OO5",
        "outputId": "289a0d09-2bf9-4903-992b-22680d648c07"
      },
      "execution_count": 4,
      "outputs": [
        {
          "output_type": "stream",
          "name": "stdout",
          "text": [
            "['A', 'B', 'D', 'E', 'F', 'C']\n"
          ]
        }
      ]
    },
    {
      "cell_type": "markdown",
      "source": [
        "**Explanation:**\n",
        "\n",
        "- **visited:** A set to keep track of visited nodes to avoid revisiting them.\n",
        "\n",
        "- The algorithm starts by adding the source node to the visited set and result list.\n",
        "\n",
        "- It then recursively visits each unvisited neighbor, adding them to the result list."
      ],
      "metadata": {
        "id": "mR1RcwYt8HPN"
      }
    },
    {
      "cell_type": "markdown",
      "source": [
        "**4. Dijkstra’s Algorithm:**\n",
        "Dijkstra’s Algorithm is used to find the shortest path between a source node and all other nodes in a weighted graph."
      ],
      "metadata": {
        "id": "DbEwNLmi8PpT"
      }
    },
    {
      "cell_type": "markdown",
      "source": [
        "**Example Problem:** Find the shortest path using Dijkstra’s Algorithm."
      ],
      "metadata": {
        "id": "3QoXa2ny8TKT"
      }
    },
    {
      "cell_type": "code",
      "source": [
        "import heapq\n",
        "\n",
        "def dijkstra(graph, start):\n",
        "  priority_queue = []\n",
        "  heapq.heappush(priority_queue, (0, start))\n",
        "  distances = {node: float('inf')for node in graph}\n",
        "  distances[start] = 0\n",
        "  visited = set()\n",
        "\n",
        "  while priority_queue:\n",
        "    current_distance, current_node = heapq.heappop(priority_queue)\n",
        "    if current_node in visited:\n",
        "      continue\n",
        "    visited.add(current_node)\n",
        "\n",
        "    for neighbor, weight in graph[current_node].items():\n",
        "      distance = current_distance + weight\n",
        "      if distance < distances[neighbor]:\n",
        "        distances[neighbor] = distance\n",
        "        heapq.heappush(priority_queue, (distance, neighbor))\n",
        "  return distances\n",
        "\n",
        "graph = {\n",
        "    'A': {'B': 1, 'C': 4},\n",
        "    'B': {'A': 1, 'D': 2, 'E': 5},\n",
        "    'C': {'A': 4, 'F': 3},\n",
        "    'D': {'B': 2},\n",
        "    'E': {'B': 5, 'F': 1},\n",
        "    'F': {'C': 3, 'E': 1}\n",
        "}\n",
        "\n",
        "print(dijkstra(graph, 'A'))"
      ],
      "metadata": {
        "colab": {
          "base_uri": "https://localhost:8080/"
        },
        "id": "3tyUab_a8Ayb",
        "outputId": "b66164fb-548c-4ba5-f439-475914b3382d"
      },
      "execution_count": 8,
      "outputs": [
        {
          "output_type": "stream",
          "name": "stdout",
          "text": [
            "{'A': 0, 'B': 1, 'C': 4, 'D': 3, 'E': 6, 'F': 7}\n"
          ]
        }
      ]
    },
    {
      "cell_type": "markdown",
      "source": [
        "**Explanation:**\n",
        "\n",
        "- **priority_queue:** A min-heap to keep track of the next node to visit based on the shortest distance.\n",
        "\n",
        "- **distances:** A dictionary to store the shortest distance from the start node to each node.\n",
        "\n",
        "- **visited:** A set to keep track of visited nodes.\n",
        "\n",
        "- The algorithm starts by initializing the distance to the start node as 0 and all other distances as infinity.\n",
        "\n",
        "- It then iteratively visits the node with the shortest distance, updates the distances to its neighbors, and adds them to the priority queue."
      ],
      "metadata": {
        "id": "FXUi7g5V-aOl"
      }
    },
    {
      "cell_type": "code",
      "source": [],
      "metadata": {
        "id": "lZFRcyC09ukx"
      },
      "execution_count": null,
      "outputs": []
    }
  ]
}