{
  "nbformat": 4,
  "nbformat_minor": 0,
  "metadata": {
    "colab": {
      "provenance": []
    },
    "kernelspec": {
      "name": "python3",
      "display_name": "Python 3"
    },
    "language_info": {
      "name": "python"
    }
  },
  "cells": [
    {
      "cell_type": "markdown",
      "source": [
        "**1] Traversal : Iterating through all elements in the array.**\n"
      ],
      "metadata": {
        "id": "1LEV2S7Lf2fu"
      }
    },
    {
      "cell_type": "code",
      "execution_count": 1,
      "metadata": {
        "colab": {
          "base_uri": "https://localhost:8080/"
        },
        "id": "NYA69jC0fudh",
        "outputId": "e2d22be1-bb1d-4888-9279-312690d31ac4"
      },
      "outputs": [
        {
          "output_type": "stream",
          "name": "stdout",
          "text": [
            "1\n",
            "2\n",
            "3\n",
            "4\n",
            "5\n"
          ]
        }
      ],
      "source": [
        "def print_array(arr):\n",
        "  for element in arr:\n",
        "    print(element)\n",
        "\n",
        "arr = [1,2,3,4,5]\n",
        "print_array(arr)"
      ]
    },
    {
      "cell_type": "markdown",
      "source": [
        "**2] Insertion : Insert an element at a specific index.**"
      ],
      "metadata": {
        "id": "efiTta_FgP4E"
      }
    },
    {
      "cell_type": "code",
      "source": [
        "def insert_at_index(arr,index,element):\n",
        "  arr.insert(index, element)\n",
        "  return arr\n",
        "\n",
        "arr = [1,2,3,4,5]\n",
        "print(insert_at_index(arr,2,9))"
      ],
      "metadata": {
        "colab": {
          "base_uri": "https://localhost:8080/"
        },
        "id": "Mt9kQ1EkgNxq",
        "outputId": "110baa26-c4ad-4b1d-ef03-0fcb35233578"
      },
      "execution_count": 2,
      "outputs": [
        {
          "output_type": "stream",
          "name": "stdout",
          "text": [
            "[1, 2, 9, 3, 4, 5]\n"
          ]
        }
      ]
    },
    {
      "cell_type": "markdown",
      "source": [
        "**3] Deletion : Delete an element at a specific index.**"
      ],
      "metadata": {
        "id": "exkGLJlIgoJk"
      }
    },
    {
      "cell_type": "code",
      "source": [
        "def delete_at_index(arr,index):\n",
        "  if 0 <= index < len(arr):\n",
        "    arr.pop(index)\n",
        "  return arr\n",
        "\n",
        "arr = [1,2,3,4,5]\n",
        "print(delete_at_index(arr, 2))"
      ],
      "metadata": {
        "colab": {
          "base_uri": "https://localhost:8080/"
        },
        "id": "64uIYJ9BglL2",
        "outputId": "fba4ecbd-4b47-4e33-c0f5-c0472046f73f"
      },
      "execution_count": 3,
      "outputs": [
        {
          "output_type": "stream",
          "name": "stdout",
          "text": [
            "[1, 2, 4, 5]\n"
          ]
        }
      ]
    },
    {
      "cell_type": "markdown",
      "source": [
        "**4] Searching : Find the index of a specific element.**"
      ],
      "metadata": {
        "id": "-KU4bZgeg_ra"
      }
    },
    {
      "cell_type": "code",
      "source": [
        "def search_element(arr,element):\n",
        "  try:\n",
        "    return arr.index(element)\n",
        "  except ValueError:\n",
        "    return -1\n",
        "\n",
        "arr = [1,2,3,4,5]\n",
        "print(search_element(arr,3))"
      ],
      "metadata": {
        "colab": {
          "base_uri": "https://localhost:8080/"
        },
        "id": "EgLo0FnFg7Aw",
        "outputId": "3726960d-684e-4934-88c9-7b789c301958"
      },
      "execution_count": 4,
      "outputs": [
        {
          "output_type": "stream",
          "name": "stdout",
          "text": [
            "2\n"
          ]
        }
      ]
    }
  ]
}