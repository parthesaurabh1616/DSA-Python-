{
  "nbformat": 4,
  "nbformat_minor": 0,
  "metadata": {
    "colab": {
      "provenance": []
    },
    "kernelspec": {
      "name": "python3",
      "display_name": "Python 3"
    },
    "language_info": {
      "name": "python"
    }
  },
  "cells": [
    {
      "cell_type": "markdown",
      "source": [
        "**1.Two Sum**"
      ],
      "metadata": {
        "id": "dmX_k8EzPdAa"
      }
    },
    {
      "cell_type": "markdown",
      "source": [
        "**Problem:**\n",
        "Find two numbers in an array that add up to a specific target."
      ],
      "metadata": {
        "id": "LSkCmR-YSLrZ"
      }
    },
    {
      "cell_type": "code",
      "source": [],
      "metadata": {
        "id": "Jm7WxX_USLTz"
      },
      "execution_count": null,
      "outputs": []
    },
    {
      "cell_type": "code",
      "execution_count": 1,
      "metadata": {
        "colab": {
          "base_uri": "https://localhost:8080/"
        },
        "id": "P58fyWqVPAyN",
        "outputId": "e2d9253b-2b39-4eea-e9d7-238a92adad5a"
      },
      "outputs": [
        {
          "output_type": "stream",
          "name": "stdout",
          "text": [
            "[0, 1]\n"
          ]
        }
      ],
      "source": [
        "def two_sum(nums, target):\n",
        "  seen = {}\n",
        "  for i, num in enumerate(nums):\n",
        "    diff = target - num\n",
        "    if diff in seen:\n",
        "      return [seen[diff], i]\n",
        "    seen[num] = i\n",
        "  return []\n",
        "\n",
        "nums = [2,7,11,15]\n",
        "target = 9\n",
        "print(two_sum(nums, target))"
      ]
    },
    {
      "cell_type": "markdown",
      "source": [
        "**2.Maximum Subarray (Kadane's Algorithm)**"
      ],
      "metadata": {
        "id": "8cU6hG52R2cm"
      }
    },
    {
      "cell_type": "markdown",
      "source": [
        "**Problem:**  Find the maximum sum of a contiguous subarray"
      ],
      "metadata": {
        "id": "moEiToMFSBwD"
      }
    },
    {
      "cell_type": "code",
      "source": [
        "def max_subarray(nums):\n",
        "  max_current = max_global = nums[0]\n",
        "  for num in nums[1:]:\n",
        "    max_current = max(num, max_current + num)\n",
        "    if max_current > max_global:\n",
        "      max_global = max_current\n",
        "  return max_global\n",
        "\n",
        "nums = [-2,1,-3,4,-1,2,1,-5,4]\n",
        "print(max_subarray(nums))"
      ],
      "metadata": {
        "colab": {
          "base_uri": "https://localhost:8080/"
        },
        "id": "315NANr-QP4A",
        "outputId": "2b4225af-cf9b-4285-ab39-90d70d37e5d8"
      },
      "execution_count": 2,
      "outputs": [
        {
          "output_type": "stream",
          "name": "stdout",
          "text": [
            "6\n"
          ]
        }
      ]
    },
    {
      "cell_type": "markdown",
      "source": [
        "**3. Merge Intervals**"
      ],
      "metadata": {
        "id": "zyDj25dZUh6P"
      }
    },
    {
      "cell_type": "markdown",
      "source": [
        "**Problem:** Merge overlapping intervals in an array of intervals"
      ],
      "metadata": {
        "id": "MIsfRuWdUltj"
      }
    },
    {
      "cell_type": "code",
      "source": [
        "def merge_intervals(intervals):\n",
        "  intervals.sort(key=lambda x: x[0])\n",
        "  merged = [intervals[0]]\n",
        "  for current in intervals:\n",
        "    last = merged[-1]\n",
        "    if current[0] <= last[1]:\n",
        "      last[1] = max(last[1], current[1])\n",
        "    else:\n",
        "      merged.append(current)\n",
        "  return merged\n",
        "\n",
        "intervals = [[1,3],[2,6],[8,10],[15,18]]\n",
        "print(merge_intervals(intervals))"
      ],
      "metadata": {
        "colab": {
          "base_uri": "https://localhost:8080/"
        },
        "id": "k_fB1rzrS9QU",
        "outputId": "21fa79ea-05c2-4aa2-963d-080491774dfc"
      },
      "execution_count": 3,
      "outputs": [
        {
          "output_type": "stream",
          "name": "stdout",
          "text": [
            "[[1, 6], [8, 10], [15, 18]]\n"
          ]
        }
      ]
    },
    {
      "cell_type": "markdown",
      "source": [
        "**4.Find the Duplicate Number**"
      ],
      "metadata": {
        "id": "EzJNIJ3BXJcj"
      }
    },
    {
      "cell_type": "markdown",
      "source": [
        "**Problem:** Find the duplicate number in an array containing n+1 integers where each integer is between 1 and n (inclusive)."
      ],
      "metadata": {
        "id": "NOyywhwTXNfA"
      }
    },
    {
      "cell_type": "markdown",
      "source": [
        " **Uses Floyd's cycle-finding algorithm (also known as the \"tortoise and hare\" algorithm)**"
      ],
      "metadata": {
        "id": "vH2UV-ucYifr"
      }
    },
    {
      "cell_type": "code",
      "source": [
        "def find_duplicate(nums):\n",
        "  slow = fast = nums[0]\n",
        "  while True:\n",
        "    slow = nums[slow]\n",
        "    fast = nums[nums[fast]]\n",
        "    if slow == fast:\n",
        "      break\n",
        "  slow = nums[0]\n",
        "  while slow != fast:\n",
        "    slow = nums[slow]\n",
        "    fast = nums[fast]\n",
        "  return slow\n",
        "\n",
        "nums = [1,3,4,2,2]\n",
        "print(find_duplicate(nums))"
      ],
      "metadata": {
        "colab": {
          "base_uri": "https://localhost:8080/"
        },
        "id": "AlLPVqMBVRSp",
        "outputId": "acd3c3ca-92e2-4ad5-db65-0629e90b0654"
      },
      "execution_count": 4,
      "outputs": [
        {
          "output_type": "stream",
          "name": "stdout",
          "text": [
            "2\n"
          ]
        }
      ]
    },
    {
      "cell_type": "markdown",
      "source": [
        "**5. Product of Array Except Self**"
      ],
      "metadata": {
        "id": "_1iQMafCY2_2"
      }
    },
    {
      "cell_type": "markdown",
      "source": [
        "**Problem:**Find an array output such that each element at index i is the product of all the numbers in the original array except the one at i."
      ],
      "metadata": {
        "id": "gEzvBVeaY967"
      }
    },
    {
      "cell_type": "code",
      "source": [
        "def product_except_self(nums):\n",
        "  n = len(nums)\n",
        "  res = [1] * n\n",
        "  left = 1\n",
        "  for i in range(n):\n",
        "    res[i] = left\n",
        "    left *= nums[i]\n",
        "  right = 1\n",
        "  for i in range(n-1, -1, -1):\n",
        "    res[i] *= right\n",
        "    right *= nums[i]\n",
        "  return res\n",
        "\n",
        "nums = [1,2,3,4]\n",
        "print(product_except_self(nums))"
      ],
      "metadata": {
        "colab": {
          "base_uri": "https://localhost:8080/"
        },
        "id": "MVVadevgXr2p",
        "outputId": "08a2b596-b49a-44a6-e830-06203ee44f45"
      },
      "execution_count": 5,
      "outputs": [
        {
          "output_type": "stream",
          "name": "stdout",
          "text": [
            "[24, 12, 8, 6]\n"
          ]
        }
      ]
    },
    {
      "cell_type": "markdown",
      "source": [
        "**6. Longest Consecutive Sequence**"
      ],
      "metadata": {
        "id": "f-6_mL8va5Eu"
      }
    },
    {
      "cell_type": "markdown",
      "source": [
        "**Problem:** Find the length of the longest consecutive sequence in an array."
      ],
      "metadata": {
        "id": "4VtHYOk5a85y"
      }
    },
    {
      "cell_type": "code",
      "source": [
        "def longest_consecutive(nums):\n",
        "  num_set = set(nums)\n",
        "  longest_streak = 0\n",
        "  for num in num_set:\n",
        "    if num - 1 not in num_set:\n",
        "      current_num = num\n",
        "      current_streak = 1\n",
        "      while current_num + 1 in num_set:\n",
        "        current_num += 1\n",
        "        current_streak += 1\n",
        "      longest_streak = max(longest_streak, current_streak)\n",
        "  return longest_streak\n",
        "\n",
        "nums = [100,4,200,1,3,2]\n",
        "print(longest_consecutive(nums))"
      ],
      "metadata": {
        "colab": {
          "base_uri": "https://localhost:8080/"
        },
        "id": "5dc9n2ATZlMK",
        "outputId": "56dc8bdb-a89a-4d51-9414-8c7b0ce4116f"
      },
      "execution_count": 6,
      "outputs": [
        {
          "output_type": "stream",
          "name": "stdout",
          "text": [
            "4\n"
          ]
        }
      ]
    },
    {
      "cell_type": "markdown",
      "source": [
        "**7.Minimum Size Subarray Sum**"
      ],
      "metadata": {
        "id": "1VTu493NcGFY"
      }
    },
    {
      "cell_type": "markdown",
      "source": [
        "**Problem:** Given an array of positive integers and a positive integer target, find the minimal length of a contiguous subarray of which the sum is at least target."
      ],
      "metadata": {
        "id": "97OxruRtcNEe"
      }
    },
    {
      "cell_type": "code",
      "source": [
        "def min_subarray_len(target, nums):\n",
        "  left = 0\n",
        "  total = 0\n",
        "  min_len = float('inf')\n",
        "  for right in range(len(nums)):\n",
        "    total += nums[right]\n",
        "    while total >= target:\n",
        "      min_len = min(min_len, right - left + 1)\n",
        "      total -= nums[left]\n",
        "      left += 1\n",
        "  return min_len if min_len != float('inf') else 0\n",
        "\n",
        "target = 7\n",
        "nums = [2,3,1,2,4,3]\n",
        "print(min_subarray_len(target, nums))"
      ],
      "metadata": {
        "colab": {
          "base_uri": "https://localhost:8080/"
        },
        "id": "_W5eo7G9beP-",
        "outputId": "5899052a-cda9-4943-f552-7a703228ff5e"
      },
      "execution_count": 7,
      "outputs": [
        {
          "output_type": "stream",
          "name": "stdout",
          "text": [
            "2\n"
          ]
        }
      ]
    },
    {
      "cell_type": "markdown",
      "source": [
        "**8. Container With Most Water**"
      ],
      "metadata": {
        "id": "Utj-JhyudqdJ"
      }
    },
    {
      "cell_type": "markdown",
      "source": [
        "**Problem:** Find two lines that together with the x-axis form a container, such that the container contains the most water."
      ],
      "metadata": {
        "id": "IdwC7AytduaS"
      }
    },
    {
      "cell_type": "code",
      "source": [
        "def max_area(height):\n",
        "  left, right = 0, len(height) -1\n",
        "  max_water = 0\n",
        "  while left < right:\n",
        "    max_water = max(max_water, min(height[left], height[right]) * (right - left))\n",
        "    if height[left] < height[right]:\n",
        "      left += 1\n",
        "    else:\n",
        "      right -= 1\n",
        "  return max_water\n",
        "\n",
        "height = [1,8,6,2,5,4,8,3,7]\n",
        "print(max_area(height))"
      ],
      "metadata": {
        "colab": {
          "base_uri": "https://localhost:8080/"
        },
        "id": "g_JJELYgcwKl",
        "outputId": "42802aa7-d5eb-41db-d97d-b15679e48bfa"
      },
      "execution_count": 8,
      "outputs": [
        {
          "output_type": "stream",
          "name": "stdout",
          "text": [
            "49\n"
          ]
        }
      ]
    },
    {
      "cell_type": "markdown",
      "source": [
        "**9. Find All Duplicates in an Array** (Hash Table)"
      ],
      "metadata": {
        "id": "5BGxiIy6fDcP"
      }
    },
    {
      "cell_type": "markdown",
      "source": [
        "**Problem:** Find all elements that appear twice in an array of integers between 1 and n."
      ],
      "metadata": {
        "id": "5CYaQ5p_fGXl"
      }
    },
    {
      "cell_type": "code",
      "source": [
        "def find_duplicates(nums):\n",
        "  res = []\n",
        "  for num in nums:\n",
        "    if nums[abs(num) - 1] < 0:\n",
        "      res.append(abs(num))\n",
        "    else:\n",
        "      nums[abs(num) - 1] *= 1\n",
        "  return res\n",
        "\n",
        "nums = [4,3,2,7,8,2,3,1]\n",
        "print(find_duplicates(nums))"
      ],
      "metadata": {
        "colab": {
          "base_uri": "https://localhost:8080/"
        },
        "id": "GIBGF9fOeSwd",
        "outputId": "cc4d0aa7-533e-4c99-b009-5243d08c49bc"
      },
      "execution_count": 17,
      "outputs": [
        {
          "output_type": "stream",
          "name": "stdout",
          "text": [
            "[]\n"
          ]
        }
      ]
    },
    {
      "cell_type": "markdown",
      "source": [
        "**10.Spiral Matrix**"
      ],
      "metadata": {
        "id": "HtqCfGaEgjrc"
      }
    },
    {
      "cell_type": "markdown",
      "source": [
        "**Problem:** Given an m x n matrix, return all elements of the matrix in spiral order."
      ],
      "metadata": {
        "id": "4oXwbdkdgnBC"
      }
    },
    {
      "cell_type": "code",
      "source": [
        "def spiral_order(matrix):\n",
        "  res = []\n",
        "  while matrix:\n",
        "    res += matrix.pop(0)\n",
        "    if matrix and matrix[0]:\n",
        "      for row in matrix:\n",
        "        res.append(row.pop())\n",
        "    if matrix:\n",
        "      res += matrix.pop()[::-1]\n",
        "    if matrix and matrix[0]:\n",
        "      for row in matrix[::-1]:\n",
        "        res.append(row.pop(0))\n",
        "\n",
        "matrix = [[1,2,3],[4,5,6],[7,8,9]]\n",
        "print(spiral_order(matrix))"
      ],
      "metadata": {
        "colab": {
          "base_uri": "https://localhost:8080/"
        },
        "id": "mJF6GiSnfeDq",
        "outputId": "81940bb9-5544-4e78-98bd-cc038c723431"
      },
      "execution_count": 18,
      "outputs": [
        {
          "output_type": "stream",
          "name": "stdout",
          "text": [
            "None\n"
          ]
        }
      ]
    },
    {
      "cell_type": "code",
      "source": [],
      "metadata": {
        "id": "uRraBQushUSK"
      },
      "execution_count": null,
      "outputs": []
    }
  ]
}