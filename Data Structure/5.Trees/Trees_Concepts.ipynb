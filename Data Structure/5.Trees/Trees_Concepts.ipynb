{
  "nbformat": 4,
  "nbformat_minor": 0,
  "metadata": {
    "colab": {
      "provenance": []
    },
    "kernelspec": {
      "name": "python3",
      "display_name": "Python 3"
    },
    "language_info": {
      "name": "python"
    }
  },
  "cells": [
    {
      "cell_type": "markdown",
      "source": [
        "**1.Tree Traversals**"
      ],
      "metadata": {
        "id": "XGy3BJAGX0F6"
      }
    },
    {
      "cell_type": "markdown",
      "source": [
        "**Problem:** Perform Inorder, Preorder, and Postorder traversal of a binary tree.\n",
        "\n",
        "**Explanation:**\n",
        "\n",
        "- Inorder Traversal: Visit the left subtree, the root, and then the right subtree.\n",
        "\n",
        "- Preorder Traversal: Visit the root, the left subtree, and then the right subtree.\n",
        "\n",
        "- Postorder Traversal: Visit the left subtree, the right subtree, and then the root."
      ],
      "metadata": {
        "id": "Lv92aKtUX3Pw"
      }
    },
    {
      "cell_type": "code",
      "execution_count": 2,
      "metadata": {
        "colab": {
          "base_uri": "https://localhost:8080/"
        },
        "id": "mnYTHfR4XuxG",
        "outputId": "6f9a4e6a-ba07-4898-f767-0beefca92c82"
      },
      "outputs": [
        {
          "output_type": "stream",
          "name": "stdout",
          "text": [
            "[1, 3, 2]\n",
            "[1, 2, 3]\n",
            "[3, 2, 1]\n"
          ]
        }
      ],
      "source": [
        "class TreeNode:\n",
        "  def __init__(self, val=0, left=None, right=None):\n",
        "    self.val = val     # Node Value\n",
        "    self.left = left   # Left Child\n",
        "    self.right = right # Right Child\n",
        "\n",
        "def inorder_traversal(root):\n",
        "  if root:\n",
        "    return inorder_traversal(root.left) + [root.val] + inorder_traversal(root.right)\n",
        "  else:\n",
        "    return []\n",
        "\n",
        "def preorder_traversal(root):\n",
        "  if root:\n",
        "    return [root.val] + preorder_traversal(root.left) + preorder_traversal(root.right)\n",
        "  else:\n",
        "    return []\n",
        "\n",
        "def postorder_traversal(root):\n",
        "  if root:\n",
        "    return postorder_traversal(root.left) + postorder_traversal(root.right) + [root.val]\n",
        "  else:\n",
        "    return []\n",
        "\n",
        "root = TreeNode(1, None, TreeNode(2, TreeNode(3)))\n",
        "print(inorder_traversal(root))\n",
        "print(preorder_traversal(root))\n",
        "print(postorder_traversal(root))"
      ]
    },
    {
      "cell_type": "markdown",
      "source": [
        "**2.Lowest Common Ancestor**"
      ],
      "metadata": {
        "id": "72H5bWFraVHF"
      }
    },
    {
      "cell_type": "markdown",
      "source": [
        "**Problem**: Find the lowest common ancestor of two nodes in a binary tree.\n",
        "\n",
        "**Explanation:**\n",
        "\n",
        "- The lowest common ancestor is the deepest node that has both p and q as descendants.\n",
        "\n",
        "- If a node is either p or q, it is the LCA.\n",
        "\n",
        "- Recursively search in the left and right subtrees. If both sides return non-null, the current node is the LCA."
      ],
      "metadata": {
        "id": "yvoaIymJaapo"
      }
    },
    {
      "cell_type": "code",
      "source": [
        "def lowest_common_ancestor(root, p, q):\n",
        "  if not root or root == p or root == q:\n",
        "    return root\n",
        "  left = lowest_common_ancestor(root.left, p ,q)\n",
        "  right = lowest_common_ancestor(root.right, p, q)\n",
        "  if left and right:\n",
        "    return root\n",
        "  return left if left else right\n",
        "\n",
        "root = TreeNode(3, TreeNode(5, TreeNode(6), TreeNode(2, TreeNode(7), TreeNode(4))), TreeNode(1, TreeNode(0), TreeNode(8)))\n",
        "p, q = root.left, root.left.right.right\n",
        "print(lowest_common_ancestor(root, p, q).val)"
      ],
      "metadata": {
        "colab": {
          "base_uri": "https://localhost:8080/"
        },
        "id": "WPZXMNSfZQwa",
        "outputId": "0dca4bc3-874d-4ca6-fc77-37b6515b3510"
      },
      "execution_count": 4,
      "outputs": [
        {
          "output_type": "stream",
          "name": "stdout",
          "text": [
            "5\n"
          ]
        }
      ]
    },
    {
      "cell_type": "markdown",
      "source": [
        "**3.Serialize and Deserialize Binary Tree**"
      ],
      "metadata": {
        "id": "-AMwHgfobuo2"
      }
    },
    {
      "cell_type": "markdown",
      "source": [
        "**Problem:** Convert a binary tree to a string and back.\n",
        "\n",
        "**Explanation:**\n",
        "\n",
        "- **Serialization:** Convert the tree to a string by traversing it in preorder and adding None for null nodes.\n",
        "\n",
        "- **Deserialization:** Convert the string back to a tree by using an iterator to construct nodes in preorder."
      ],
      "metadata": {
        "id": "lJxew6s9by5-"
      }
    },
    {
      "cell_type": "code",
      "source": [
        "def serialize(root):\n",
        "    def helper(node):\n",
        "        if not node:\n",
        "            result.append('None')\n",
        "        else:\n",
        "            result.append(str(node.val))\n",
        "            helper(node.left)\n",
        "            helper(node.right)\n",
        "    result = []\n",
        "    helper(root)\n",
        "    return ','.join(result)\n",
        "\n",
        "def deserialize(data):\n",
        "    def helper():\n",
        "        val = next(values)\n",
        "        if val == 'None':\n",
        "            return None\n",
        "        node = TreeNode(int(val))\n",
        "        node.left = helper()\n",
        "        node.right = helper()\n",
        "        return node\n",
        "    values = iter(data.split(','))\n",
        "    return helper()\n",
        "\n",
        "# Example usage\n",
        "root = TreeNode(1, TreeNode(2), TreeNode(3, TreeNode(4), TreeNode(5)))\n",
        "data = serialize(root)\n",
        "print(data)  # Output: \"1,2,None,None,3,4,None,None,5,None,None\"\n",
        "deserialized_tree = deserialize(data)\n",
        "print(inorder_traversal(deserialized_tree))  # Output: [2, 1, 4, 3, 5]\n"
      ],
      "metadata": {
        "colab": {
          "base_uri": "https://localhost:8080/"
        },
        "id": "O_wydTSIbnDM",
        "outputId": "0a95d814-11db-40bb-dfcb-e6aab151799d"
      },
      "execution_count": 7,
      "outputs": [
        {
          "output_type": "stream",
          "name": "stdout",
          "text": [
            "1,2,None,None,3,4,None,None,5,None,None\n",
            "[2, 1, 4, 3, 5]\n"
          ]
        }
      ]
    },
    {
      "cell_type": "markdown",
      "source": [
        "**4.Binary Tree Level Order Traversal**"
      ],
      "metadata": {
        "id": "AcE0GOK5d25z"
      }
    },
    {
      "cell_type": "markdown",
      "source": [
        "**Problem:** Traverse a binary tree level by level.\n",
        "\n",
        "**Explanation:**\n",
        "\n",
        "- Use a queue to traverse the tree level by level.\n",
        "\n",
        "- For each level, add the values of the nodes to the result list and enqueue their children."
      ],
      "metadata": {
        "id": "QlWn8WVLd7xl"
      }
    },
    {
      "cell_type": "code",
      "source": [
        "from collections import deque\n",
        "\n",
        "def level_order(root):\n",
        "  result = []\n",
        "  if not root:\n",
        "    return result\n",
        "  queue = deque([root])\n",
        "  while queue:\n",
        "    level = []\n",
        "    for i in range(len(queue)):\n",
        "      node = queue.popleft()\n",
        "      level.append(node.val)\n",
        "      if node.left:\n",
        "        queue.append(node.left)\n",
        "      if node.right:\n",
        "        queue.append(node.right)\n",
        "    result.append(level)\n",
        "  return result\n",
        "\n",
        "root = TreeNode(3, TreeNode(9), TreeNode(20, TreeNode(15), TreeNode(7)))\n",
        "print(level_order(root))"
      ],
      "metadata": {
        "colab": {
          "base_uri": "https://localhost:8080/"
        },
        "id": "hRbWX-x8dKn0",
        "outputId": "107f524c-f6e1-473a-b669-813f334eca0c"
      },
      "execution_count": 8,
      "outputs": [
        {
          "output_type": "stream",
          "name": "stdout",
          "text": [
            "[[3], [9, 20], [15, 7]]\n"
          ]
        }
      ]
    },
    {
      "cell_type": "markdown",
      "source": [
        "**5.Convert Sorted Array to BST**"
      ],
      "metadata": {
        "id": "abam5jrtfGLT"
      }
    },
    {
      "cell_type": "markdown",
      "source": [
        "**Problem:** Convert a sorted array to a balanced binary search tree.\n",
        "\n",
        "**Explanation:**\n",
        "\n",
        "- Recursively construct the tree by choosing the middle element as the root.\n",
        "\n",
        "- The left half of the array becomes the left subtree, and the right half becomes the right subtree."
      ],
      "metadata": {
        "id": "4_j9x-e1fK49"
      }
    },
    {
      "cell_type": "code",
      "source": [
        "def sorted_array_to_bst(nums):\n",
        "  if not nums:\n",
        "    return None\n",
        "  mid = len(nums) // 2\n",
        "  root = TreeNode(nums[mid])\n",
        "  root.left = sorted_array_to_bst(nums[:mid])\n",
        "  root.right = sorted_array_to_bst(nums[mid + 1:])\n",
        "  return root\n",
        "\n",
        "nums = [-10,-3,0,5,9]\n",
        "root = sorted_array_to_bst(nums)\n",
        "print(inorder_traversal(root))"
      ],
      "metadata": {
        "colab": {
          "base_uri": "https://localhost:8080/"
        },
        "id": "WaeF5FHOe55d",
        "outputId": "712c4feb-27ec-42c4-9aa2-b3d0cc4afb51"
      },
      "execution_count": 9,
      "outputs": [
        {
          "output_type": "stream",
          "name": "stdout",
          "text": [
            "[-10, -3, 0, 5, 9]\n"
          ]
        }
      ]
    },
    {
      "cell_type": "code",
      "source": [],
      "metadata": {
        "id": "GDHN2Pvufu_F"
      },
      "execution_count": null,
      "outputs": []
    }
  ]
}