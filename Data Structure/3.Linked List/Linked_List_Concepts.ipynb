{
  "nbformat": 4,
  "nbformat_minor": 0,
  "metadata": {
    "colab": {
      "provenance": []
    },
    "kernelspec": {
      "name": "python3",
      "display_name": "Python 3"
    },
    "language_info": {
      "name": "python"
    }
  },
  "cells": [
    {
      "cell_type": "markdown",
      "source": [
        "**1.Traversal**"
      ],
      "metadata": {
        "id": "B6QIkMmsjwkB"
      }
    },
    {
      "cell_type": "markdown",
      "source": [
        "**Problem:** Print all elements in the linked list."
      ],
      "metadata": {
        "id": "VZLZNmSujzmt"
      }
    },
    {
      "cell_type": "code",
      "execution_count": null,
      "metadata": {
        "colab": {
          "base_uri": "https://localhost:8080/"
        },
        "id": "jiI6N5wOjq2r",
        "outputId": "d3063ad9-e1ae-479b-e077-3b5a8c4a5fb2"
      },
      "outputs": [
        {
          "output_type": "stream",
          "name": "stdout",
          "text": [
            "1 2 3 4 5 "
          ]
        }
      ],
      "source": [
        "class ListNode:\n",
        "  def __init__(self, val=0, next = None):\n",
        "    self.val = val\n",
        "    self.next = next\n",
        "\n",
        "def print_list(head):\n",
        "  current = head\n",
        "  while current:\n",
        "    print(current.val, end=' ')\n",
        "    current = current.next\n",
        "\n",
        "head = ListNode(1, ListNode(2, ListNode(3, ListNode(4, ListNode(5)))))\n",
        "print_list(head)"
      ]
    },
    {
      "cell_type": "markdown",
      "source": [
        "**2.Insertion**"
      ],
      "metadata": {
        "id": "mKO2ZBe5kyQ8"
      }
    },
    {
      "cell_type": "markdown",
      "source": [
        "**Problem:** Insert a new node at the beginning of the linked list."
      ],
      "metadata": {
        "id": "0w3HG9qwk00Z"
      }
    },
    {
      "cell_type": "code",
      "source": [
        "def insert_at_beginning(head, val):\n",
        "  new_node = ListNode(val)\n",
        "  new_node.next = head\n",
        "  return new_node\n",
        "\n",
        "head = ListNode(2, ListNode(3, ListNode(4, ListNode(5))))\n",
        "head = insert_at_beginning(head, 1)\n",
        "print_list(head)"
      ],
      "metadata": {
        "id": "stOpoCnrkUsO",
        "colab": {
          "base_uri": "https://localhost:8080/"
        },
        "outputId": "68fa5329-a80c-4a48-ebbc-8eda41ec32bd"
      },
      "execution_count": 2,
      "outputs": [
        {
          "output_type": "stream",
          "name": "stdout",
          "text": [
            "1 2 3 4 5 "
          ]
        }
      ]
    },
    {
      "cell_type": "markdown",
      "source": [
        "**3.Deletion**"
      ],
      "metadata": {
        "id": "8WITGxhHnyoO"
      }
    },
    {
      "cell_type": "markdown",
      "source": [
        "**Problem:** Delete a node with a specific value from the linked list."
      ],
      "metadata": {
        "id": "GMOBsAKXn2tx"
      }
    },
    {
      "cell_type": "code",
      "source": [
        "def delete_node(head, val):\n",
        "  dummy = ListNode(0)\n",
        "  dummy.next = head\n",
        "  current = dummy\n",
        "  while current.next:\n",
        "    if current.next.val == val:\n",
        "      current.next = current.next.next\n",
        "      break\n",
        "    current = current.next\n",
        "  return dummy.next\n",
        "\n",
        "head = ListNode(1, ListNode(2, ListNode(3, ListNode(4, ListNode(5)))))\n",
        "head = delete_node(head, 3)\n",
        "print_list(head)"
      ],
      "metadata": {
        "colab": {
          "base_uri": "https://localhost:8080/"
        },
        "id": "WOWn3r1QnyH7",
        "outputId": "da600b28-a62f-4a5d-fea3-1b537b76890e"
      },
      "execution_count": 3,
      "outputs": [
        {
          "output_type": "stream",
          "name": "stdout",
          "text": [
            "1 2 4 5 "
          ]
        }
      ]
    },
    {
      "cell_type": "markdown",
      "source": [
        "**4.Searching**"
      ],
      "metadata": {
        "id": "e5oPZU-qoiCM"
      }
    },
    {
      "cell_type": "markdown",
      "source": [
        "**Problem:** Find a node with a specific value in the linked list."
      ],
      "metadata": {
        "id": "dDNtwmfwok72"
      }
    },
    {
      "cell_type": "code",
      "source": [
        "def search_node(head, val):\n",
        "  current = head\n",
        "  while current:\n",
        "    if current.val == val:\n",
        "      return current\n",
        "    current = current.next\n",
        "  return None\n",
        "\n",
        "head = ListNode(1, ListNode(2, ListNode(3, ListNode(4, ListNode(5)))))\n",
        "result = search_node(head, 4)\n",
        "print(result.val if result else \"Not found\")"
      ],
      "metadata": {
        "colab": {
          "base_uri": "https://localhost:8080/"
        },
        "id": "SXEO-ah5oXjP",
        "outputId": "81f69244-3213-4629-90f9-64d7747a6a65"
      },
      "execution_count": 5,
      "outputs": [
        {
          "output_type": "stream",
          "name": "stdout",
          "text": [
            "4\n"
          ]
        }
      ]
    },
    {
      "cell_type": "code",
      "source": [],
      "metadata": {
        "id": "wX4AKPAvpJu9"
      },
      "execution_count": null,
      "outputs": []
    }
  ]
}