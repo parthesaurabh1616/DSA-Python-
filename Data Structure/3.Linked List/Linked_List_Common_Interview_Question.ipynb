{
  "nbformat": 4,
  "nbformat_minor": 0,
  "metadata": {
    "colab": {
      "provenance": []
    },
    "kernelspec": {
      "name": "python3",
      "display_name": "Python 3"
    },
    "language_info": {
      "name": "python"
    }
  },
  "cells": [
    {
      "cell_type": "markdown",
      "source": [
        "**1. Reverse Linked List**"
      ],
      "metadata": {
        "id": "AY7hUHeMpYia"
      }
    },
    {
      "cell_type": "markdown",
      "source": [
        "**Problem:** Reverse a singly linked list."
      ],
      "metadata": {
        "id": "Rdlp32uipbuo"
      }
    },
    {
      "cell_type": "code",
      "execution_count": 4,
      "metadata": {
        "colab": {
          "base_uri": "https://localhost:8080/"
        },
        "id": "bxSNj1xhpSmw",
        "outputId": "7aff0b24-1f92-42d3-8ac1-8392b2f1af12"
      },
      "outputs": [
        {
          "output_type": "stream",
          "name": "stdout",
          "text": [
            "5 4 3 2 1 "
          ]
        }
      ],
      "source": [
        "class ListNode:\n",
        "  def __init__(self, val=0, next=None):\n",
        "    self.val = val\n",
        "    self.next = next\n",
        "\n",
        "def print_list(head):\n",
        "  current = head\n",
        "  while current:\n",
        "    print(current.val, end=' ')\n",
        "    current = current.next\n",
        "\n",
        "def reverse_list(head):\n",
        "  prev = None\n",
        "  current = head\n",
        "  while current:\n",
        "    next_node = current.next\n",
        "    current.next = prev\n",
        "    prev = current\n",
        "    current = next_node\n",
        "  return prev\n",
        "\n",
        "head = ListNode(1, ListNode(2, ListNode(3, ListNode(4, ListNode(5)))))\n",
        "head = reverse_list(head)\n",
        "print_list(head)"
      ]
    },
    {
      "cell_type": "markdown",
      "source": [
        "**2.Detect Cycle**"
      ],
      "metadata": {
        "id": "aXr8OBMMqk9i"
      }
    },
    {
      "cell_type": "markdown",
      "source": [
        "**Problem:** Check if a linked list has a cycle."
      ],
      "metadata": {
        "id": "vCpYlpJHqo8d"
      }
    },
    {
      "cell_type": "code",
      "source": [
        "def has_cycle(head):\n",
        "  slow = fast = head\n",
        "  while fast and fast.next:\n",
        "    slow = slow.next\n",
        "    fast = fast.next.next\n",
        "    if slow == fast:\n",
        "      return True\n",
        "  return False\n",
        "\n",
        "head = ListNode(1, ListNode(2, ListNode(3, ListNode(4, ListNode(5)))))\n",
        "head.next.next.next.next.next = head.next\n",
        "print(has_cycle(head))"
      ],
      "metadata": {
        "colab": {
          "base_uri": "https://localhost:8080/"
        },
        "id": "p0B7fszwp3mP",
        "outputId": "16f1a2d3-e4ac-462b-f59b-7baed20b2c90"
      },
      "execution_count": 5,
      "outputs": [
        {
          "output_type": "stream",
          "name": "stdout",
          "text": [
            "True\n"
          ]
        }
      ]
    },
    {
      "cell_type": "markdown",
      "source": [
        "**3.Merge Two Sorted Lists**"
      ],
      "metadata": {
        "id": "yMkH2oS8rII5"
      }
    },
    {
      "cell_type": "markdown",
      "source": [
        "**Problem:** Merge two sorted linked lists into one sorted list."
      ],
      "metadata": {
        "id": "wBWlF1ATrMPN"
      }
    },
    {
      "cell_type": "code",
      "source": [
        "def merge_two_lists(l1, l2):\n",
        "  dummy = ListNode(0)\n",
        "  current = dummy\n",
        "  while l1 and l2:\n",
        "    if l1.val < l2.val:\n",
        "      current.next = l1\n",
        "      l1 = l1.next\n",
        "    else:\n",
        "      current.next = l2\n",
        "      l2 = l2.next\n",
        "    current = current.next\n",
        "  current.next = l1 if l1 else l2\n",
        "  return dummy.next\n",
        "\n",
        "l1 = ListNode(1, ListNode(3, ListNode(5)))\n",
        "l2 = ListNode(2, ListNode(4, ListNode(6)))\n",
        "merged_list = merge_two_lists(l1, l2)\n",
        "print_list(merged_list)"
      ],
      "metadata": {
        "colab": {
          "base_uri": "https://localhost:8080/"
        },
        "id": "P0tlf2C_rFSY",
        "outputId": "34846e05-d463-4185-9584-c720ef56cf72"
      },
      "execution_count": 6,
      "outputs": [
        {
          "output_type": "stream",
          "name": "stdout",
          "text": [
            "1 2 3 4 5 6 "
          ]
        }
      ]
    },
    {
      "cell_type": "markdown",
      "source": [
        "**4.Remove Nth Node From End**"
      ],
      "metadata": {
        "id": "_gRZcLBJr5Kh"
      }
    },
    {
      "cell_type": "markdown",
      "source": [
        "**Problem:** Remove the nth node from the end of the linked list."
      ],
      "metadata": {
        "id": "zwqzUporr-OR"
      }
    },
    {
      "cell_type": "code",
      "source": [
        "def remove_nth_from_end(head,n):\n",
        "  dummy = ListNode(0)\n",
        "  dummy.next = head\n",
        "  first = second = dummy\n",
        "  for _ in range(n + 1):\n",
        "    first = first.next\n",
        "  while first:\n",
        "    first = first.next\n",
        "    second = second.next\n",
        "  second.next = second.next.next\n",
        "  return dummy.next\n",
        "\n",
        "head = ListNode(1, ListNode(2, ListNode(3, ListNode(4, ListNode(5)))))\n",
        "head = remove_nth_from_end(head, 2)\n",
        "print_list(head)"
      ],
      "metadata": {
        "colab": {
          "base_uri": "https://localhost:8080/"
        },
        "id": "40u3A8Kgr1sA",
        "outputId": "020c5eb3-8b1d-4d9a-f7e6-d206f9312376"
      },
      "execution_count": 7,
      "outputs": [
        {
          "output_type": "stream",
          "name": "stdout",
          "text": [
            "1 2 3 5 "
          ]
        }
      ]
    },
    {
      "cell_type": "markdown",
      "source": [
        "**5.Add Two Numbers**"
      ],
      "metadata": {
        "id": "Tx3bldtpsqjK"
      }
    },
    {
      "cell_type": "markdown",
      "source": [
        "**Problem:** Add two numbers represented by linked lists."
      ],
      "metadata": {
        "id": "wh38a1DqsvHn"
      }
    },
    {
      "cell_type": "code",
      "source": [
        "def add_two_numbers(l1,l2):\n",
        "  dummy = ListNode(0)\n",
        "  current = dummy\n",
        "  carry = 0\n",
        "  while l1 or l2 or carry:\n",
        "    val1 = l1.val if l1 else 0\n",
        "    val2 = l2.val if l2 else 0\n",
        "    carry, out = divmod(val1 + val2 + carry, 10)\n",
        "    current.next = ListNode(out)\n",
        "    current = current.next\n",
        "    l1 = l1.next if l2 else None\n",
        "    l2 = l2.next if l2 else None\n",
        "  return dummy.next\n",
        "\n",
        "l1 = ListNode(2, ListNode(4, ListNode(3)))\n",
        "l2 = ListNode(5, ListNode(6, ListNode(4)))\n",
        "result = add_two_numbers(l1,l2)\n",
        "print_list(result)"
      ],
      "metadata": {
        "colab": {
          "base_uri": "https://localhost:8080/"
        },
        "id": "58EV_e18skaC",
        "outputId": "d6153369-ea41-47a2-84e0-04e85ae5bc7e"
      },
      "execution_count": 8,
      "outputs": [
        {
          "output_type": "stream",
          "name": "stdout",
          "text": [
            "7 0 8 "
          ]
        }
      ]
    },
    {
      "cell_type": "code",
      "source": [],
      "metadata": {
        "id": "p17azGv2td4Z"
      },
      "execution_count": null,
      "outputs": []
    }
  ]
}