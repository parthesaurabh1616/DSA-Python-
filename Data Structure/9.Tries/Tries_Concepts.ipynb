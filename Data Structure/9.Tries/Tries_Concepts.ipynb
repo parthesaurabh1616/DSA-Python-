{
  "nbformat": 4,
  "nbformat_minor": 0,
  "metadata": {
    "colab": {
      "provenance": []
    },
    "kernelspec": {
      "name": "python3",
      "display_name": "Python 3"
    },
    "language_info": {
      "name": "python"
    }
  },
  "cells": [
    {
      "cell_type": "markdown",
      "source": [
        "**1. Implement Trie (Prefix Tree)**"
      ],
      "metadata": {
        "id": "lhZaQ7RdpcM1"
      }
    },
    {
      "cell_type": "markdown",
      "source": [
        "**Problem:** Implement a trie with insert, search, and startsWith methods."
      ],
      "metadata": {
        "id": "VaEhr1jSpfdo"
      }
    },
    {
      "cell_type": "markdown",
      "source": [
        "**Explanation:**\n",
        "\n",
        "- Each node in the trie represents a character.\n",
        "\n",
        "- We use a dictionary to store the children of each node.\n",
        "\n",
        "- The root node represents an empty string."
      ],
      "metadata": {
        "id": "v0pnXV4Bpjtt"
      }
    },
    {
      "cell_type": "code",
      "execution_count": 1,
      "metadata": {
        "colab": {
          "base_uri": "https://localhost:8080/"
        },
        "id": "FyqhSB4vpV_-",
        "outputId": "cd071e27-de46-45a2-c263-b5b3b1a85999"
      },
      "outputs": [
        {
          "output_type": "stream",
          "name": "stdout",
          "text": [
            "True\n",
            "False\n",
            "True\n",
            "True\n"
          ]
        }
      ],
      "source": [
        "class TrieNode:\n",
        "  def __init__(self):\n",
        "    self.children = {}   # Dict to store children nodes\n",
        "    self.is_end_of_word = False   # Flag to mark the end of a word\n",
        "\n",
        "class Trie:\n",
        "  def __init__(self):\n",
        "    self.root = TrieNode()  # Initialize the root node\n",
        "\n",
        "  def insert(self, word):\n",
        "    node = self.root\n",
        "    for char in word:\n",
        "      if char not in node.children:\n",
        "        node.children[char] = TrieNode()  # Create a new node\n",
        "      node = node.children[char]\n",
        "    node.is_end_of_word = True    # Mark the end of the word\n",
        "\n",
        "  def search(self, word):\n",
        "    node = self.root\n",
        "    for char in word:\n",
        "      if char not in node.children:\n",
        "        return False\n",
        "      node = node.children[char]\n",
        "    return node.is_end_of_word    # Return True if the current node marks\n",
        "\n",
        "  def starts_with(self, prefix):\n",
        "    node = self.root\n",
        "    for char in prefix:\n",
        "      if char not in node.children:\n",
        "        return False\n",
        "      node = node.children[char]\n",
        "    return True   # Return True if the prefix is found\n",
        "\n",
        "# Example Usage\n",
        "trie = Trie()\n",
        "trie.insert(\"apple\")\n",
        "print(trie.search(\"apple\"))\n",
        "print(trie.search(\"app\"))\n",
        "print(trie.starts_with(\"app\"))\n",
        "trie.insert(\"app\")\n",
        "print(trie.search(\"app\"))"
      ]
    },
    {
      "cell_type": "markdown",
      "source": [
        "**Explanation of Functions and Methods:**\n",
        "\n",
        "- **__init__(self):** The constructor method for initializing an object.\n",
        "\n",
        "- **self.children = {}:** A dictionary to store child nodes.\n",
        "\n",
        "- **self.is_end_of_word:** A flag to mark the end of a word.\n",
        "\n",
        "- **self.root = TrieNode():** Initializes the root node of the trie.\n",
        "\n",
        "- **insert(self, word):** Inserts a word into the trie. Iterates through each character of the word and creates a new node if the character is not already a child. Marks the end of the word.\n",
        "\n",
        "- **search(self, word):** Searches for a word in the trie. Iterates through each character and checks if it exists in the children. Returns True if the current node marks the end of the word.\n",
        "\n",
        "- **starts_with(self, prefix):** Checks if there is any word in the trie that starts with the given prefix. Iterates through each character and checks if it exists in the children. Returns True if the prefix is found."
      ],
      "metadata": {
        "id": "zeqV2qDKrX6V"
      }
    },
    {
      "cell_type": "markdown",
      "source": [
        "**2. Word Search II**"
      ],
      "metadata": {
        "id": "yywuLPv8ryiK"
      }
    },
    {
      "cell_type": "markdown",
      "source": [
        "**Problem:** Find all words in a 2D board of characters."
      ],
      "metadata": {
        "id": "9HKTRJDBr17e"
      }
    },
    {
      "cell_type": "markdown",
      "source": [
        "**Explanation:**\n",
        "\n",
        "- We use a trie to store the list of words.\n",
        "\n",
        "- Perform a depth-first search (DFS) from each cell on the board to find all valid words."
      ],
      "metadata": {
        "id": "Pl_S2oQSr8cO"
      }
    },
    {
      "cell_type": "code",
      "source": [
        "class TrieNode:\n",
        "  def __init__(self):\n",
        "    self.children = {}\n",
        "    self.is_end_of_word = False\n",
        "    self.word = None    # Store the complete word at the end node\n",
        "\n",
        "class Trie:\n",
        "  def __init__(self):\n",
        "    self.root = TrieNode()\n",
        "\n",
        "  def insert(self, word):\n",
        "    node = self.root\n",
        "    for char in word:\n",
        "      if char not in node.children:\n",
        "        node.children[char] = TrieNode()\n",
        "      node = node.children[char]\n",
        "    node.is_end_of_word = True\n",
        "    node.word = word   # Store the complete word at the end node\n",
        "\n",
        "def find_words(board, words):\n",
        "  def dfs(node, i, j):\n",
        "    if node.is_end_of_word:\n",
        "      result.add(node.word)\n",
        "    if not(0 <= i < len(board)) or not (0 <= j < len(board[0])) or board[i][j] == '#':\n",
        "      return\n",
        "    char = board[i][j]\n",
        "    board[i][j] = '#'\n",
        "    for x, y in [(0,1),(1,0),(0,-1),(-1,0)]:\n",
        "      ni, nj = i + x, j + y\n",
        "      if 0 <= ni < len(board) and 0 <= nj < len(board[0]) and board[ni][nj] in node.children:\n",
        "        dfs(node.children[board[ni][nj]], ni,nj)\n",
        "    board[i][j] = char\n",
        "\n",
        "  # Build the Trie\n",
        "  trie = Trie()\n",
        "  for word in words:\n",
        "    trie.insert(word)\n",
        "\n",
        "  result = set()\n",
        "  for i in range(len(board)):\n",
        "    for j in range(len(board[0])):\n",
        "      if board[i][j] in trie.root.children:\n",
        "        dfs(trie.root.children[board[i][j]], i,j)\n",
        "  return list(result)\n",
        "\n",
        "# Example Usage\n",
        "board = [['o','a','a','n'],\n",
        "         ['e','t','a','e'],\n",
        "         ['i','h','k','r'],\n",
        "         ['i','f','l','v']]\n",
        "words = [\"oath\",\"pea\",\"eat\",\"rain\"]\n",
        "print(find_words(board, words))"
      ],
      "metadata": {
        "colab": {
          "base_uri": "https://localhost:8080/"
        },
        "id": "-a89SYkvrMJ9",
        "outputId": "0e5d2d62-d186-405f-a2c4-8ddb8f896f43"
      },
      "execution_count": 2,
      "outputs": [
        {
          "output_type": "stream",
          "name": "stdout",
          "text": [
            "['oath', 'eat']\n"
          ]
        }
      ]
    },
    {
      "cell_type": "markdown",
      "source": [
        "**Explanation of Functions and Methods:**\n",
        "\n",
        "- **self.word = None:** Stores the complete word at the end node.\n",
        "\n",
        "- **dfs(node, i, j):** Depth-first search function to explore the board. Marks the current cell as visited by changing its value to '#'. Explores all four possible directions.\n",
        "\n",
        "- **trie = Trie():** Initializes the trie.\n",
        "\n",
        "- **trie.insert(word):** Inserts each word into the trie.\n",
        "\n",
        "- **for i in range(len(board)), for j in range(len(board[0])):** Iterates through each cell on the board.\n",
        "\n",
        "- **result.add(node.word):** Adds the found word to the result set."
      ],
      "metadata": {
        "id": "Tp4Jr2Z4uk1-"
      }
    },
    {
      "cell_type": "markdown",
      "source": [
        "**3. Longest Word in Dictionary**"
      ],
      "metadata": {
        "id": "YqbZ1-0cyyt2"
      }
    },
    {
      "cell_type": "markdown",
      "source": [
        "**Problem:** Find the longest word in a dictionary that can be built one character at a time."
      ],
      "metadata": {
        "id": "g7pXVP5hy3UW"
      }
    },
    {
      "cell_type": "markdown",
      "source": [
        "**Explanation:**\n",
        "\n",
        "- We use a trie to store the list of words.\n",
        "\n",
        "- Perform a depth-first search (DFS) to find the longest valid word."
      ],
      "metadata": {
        "id": "VPByKYcKy4wN"
      }
    },
    {
      "cell_type": "code",
      "source": [
        "class TrieNode:\n",
        "    def __init__(self):\n",
        "        self.children = {}\n",
        "        self.is_end_of_word = False\n",
        "\n",
        "class Trie:\n",
        "    def __init__(self):\n",
        "        self.root = TrieNode()\n",
        "        self.longest_word = \"\"\n",
        "\n",
        "    def insert(self, word):\n",
        "        node = self.root\n",
        "        for char in word:\n",
        "            if char not in node.children:\n",
        "                node.children[char] = TrieNode()\n",
        "            node = node.children[char]\n",
        "        node.is_end_of_word = True\n",
        "\n",
        "    def dfs(self, node, path):\n",
        "        if node.is_end_of_word:\n",
        "            if len(path) > len(self.longest_word) or (len(path) == len(self.longest_word) and path < self.longest_word):\n",
        "                self.longest_word = path\n",
        "            for char, child_node in node.children.items():\n",
        "                self.dfs(child_node, path + char)\n",
        "\n",
        "def longest_word(words):\n",
        "    trie = Trie()\n",
        "    for word in words:\n",
        "        trie.insert(word)\n",
        "    trie.dfs(trie.root, \"\")\n",
        "    return trie.longest_word\n",
        "\n",
        "# Example usage\n",
        "words = [\"w\", \"wo\", \"wor\", \"worl\", \"world\"]\n",
        "print(longest_word(words))  # Output: \"world\"\n"
      ],
      "metadata": {
        "colab": {
          "base_uri": "https://localhost:8080/"
        },
        "id": "BD3YDyiOubUF",
        "outputId": "f4320285-0722-47a4-fb7a-7728e4b60af9"
      },
      "execution_count": 6,
      "outputs": [
        {
          "output_type": "stream",
          "name": "stdout",
          "text": [
            "\n"
          ]
        }
      ]
    },
    {
      "cell_type": "markdown",
      "source": [
        "**Explanation of Functions and Methods:**\n",
        "\n",
        "- **self.longest_word = \"\":** Initializes the longest word as an empty string.\n",
        "\n",
        "- **dfs(self, node, path):** Depth-first search function to find the longest word. Updates the longest word if the current path is longer or lexicographically smaller.\n",
        "\n",
        "- **for char, child_node in node.children.items()**: Iterates through each child node of the current node.\n",
        "\n",
        "- **trie.dfs(trie.root, \"\"):** Starts the depth-first search from the root node with an empty path."
      ],
      "metadata": {
        "id": "T5cjr1Xb02s7"
      }
    },
    {
      "cell_type": "code",
      "source": [],
      "metadata": {
        "id": "6yXvdNtv0Y9g"
      },
      "execution_count": null,
      "outputs": []
    }
  ]
}