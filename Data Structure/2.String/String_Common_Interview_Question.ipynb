{
  "nbformat": 4,
  "nbformat_minor": 0,
  "metadata": {
    "colab": {
      "provenance": []
    },
    "kernelspec": {
      "name": "python3",
      "display_name": "Python 3"
    },
    "language_info": {
      "name": "python"
    }
  },
  "cells": [
    {
      "cell_type": "markdown",
      "source": [
        "**1.Longest Palindromic Substring**"
      ],
      "metadata": {
        "id": "0-Os9IcesvLZ"
      }
    },
    {
      "cell_type": "markdown",
      "source": [
        "**Problem:** Find the longest palindromic substring in a string"
      ],
      "metadata": {
        "id": "2Xb4YFzcs203"
      }
    },
    {
      "cell_type": "code",
      "execution_count": 1,
      "metadata": {
        "colab": {
          "base_uri": "https://localhost:8080/"
        },
        "id": "VkiudhpHspG4",
        "outputId": "2cab77a5-6078-4737-edc3-cff93086e432"
      },
      "outputs": [
        {
          "output_type": "stream",
          "name": "stdout",
          "text": [
            "bab\n"
          ]
        }
      ],
      "source": [
        "def longest_palindrome(s):\n",
        "  def expand_around_center(s,left,right):\n",
        "    while left >= 0 and right < len(s) and s[left] == s[right]:\n",
        "      left -= 1\n",
        "      right += 1\n",
        "    return s[left+1:right]\n",
        "\n",
        "  result =\"\"\n",
        "  for i in range(len(s)):\n",
        "    odd_palindrome = expand_around_center(s,i,i)\n",
        "    even_palindrome = expand_around_center(s,i,i+1)\n",
        "    result = max(result, odd_palindrome, even_palindrome, key=len)\n",
        "  return result\n",
        "\n",
        "s = \"babad\"\n",
        "print(longest_palindrome(s))"
      ]
    },
    {
      "cell_type": "markdown",
      "source": [
        "**2.Anagram Check**"
      ],
      "metadata": {
        "id": "BEmLWZPgucu_"
      }
    },
    {
      "cell_type": "markdown",
      "source": [
        "Check if two strings are anagrams of each other."
      ],
      "metadata": {
        "id": "L6lUOuwVufTT"
      }
    },
    {
      "cell_type": "code",
      "source": [
        "def are_anagrams(s1,s2):\n",
        "  return sorted(s1) == sorted(s2)\n",
        "\n",
        "s1 = \"listen\"\n",
        "s2 = \"silent\"\n",
        "print(are_anagrams(s1, s2))"
      ],
      "metadata": {
        "colab": {
          "base_uri": "https://localhost:8080/"
        },
        "id": "YtwW8yT7tekk",
        "outputId": "26701ba2-2131-45a5-aa52-265a91b955fe"
      },
      "execution_count": 2,
      "outputs": [
        {
          "output_type": "stream",
          "name": "stdout",
          "text": [
            "True\n"
          ]
        }
      ]
    },
    {
      "cell_type": "markdown",
      "source": [
        "**3. Longest Substring Without Repeating Characters**"
      ],
      "metadata": {
        "id": "cJfb26-7vFvO"
      }
    },
    {
      "cell_type": "markdown",
      "source": [
        "Find the length of the longest substring without repeating characters."
      ],
      "metadata": {
        "id": "d1WUAX_-vKNJ"
      }
    },
    {
      "cell_type": "markdown",
      "source": [
        "The code uses a **sliding window** approach with two pointers (left and right) to keep track of a substring that does not contain duplicate characters"
      ],
      "metadata": {
        "id": "9E31TKO3wbMG"
      }
    },
    {
      "cell_type": "code",
      "source": [
        "def length_of_longest_substring(s):\n",
        "  char_set = set()\n",
        "  left = 0\n",
        "  max_length = 0\n",
        "  for right in range(len(s)):\n",
        "    while s[right] in char_set:\n",
        "      char_set.remove(s[left])\n",
        "      left += 1\n",
        "\n",
        "    char_set.add(s[right])\n",
        "    max_length = max(max_length, right - left + 1)\n",
        "\n",
        "  return max_length\n",
        "\n",
        "s = \"abcabcbb\"\n",
        "print(length_of_longest_substring(s))"
      ],
      "metadata": {
        "colab": {
          "base_uri": "https://localhost:8080/"
        },
        "id": "icww0vj3urqt",
        "outputId": "9eda74dc-a3b9-46f3-d1f3-e2062f776c3c"
      },
      "execution_count": 3,
      "outputs": [
        {
          "output_type": "stream",
          "name": "stdout",
          "text": [
            "3\n"
          ]
        }
      ]
    },
    {
      "cell_type": "markdown",
      "source": [
        "**4.Valid Parentheses**"
      ],
      "metadata": {
        "id": "xJL5vr3FxB3u"
      }
    },
    {
      "cell_type": "markdown",
      "source": [
        "Check if a string of parentheses is valid."
      ],
      "metadata": {
        "id": "9C45GQPQxFdU"
      }
    },
    {
      "cell_type": "code",
      "source": [
        "def is_valid_parentheses(s):\n",
        "  stack = []\n",
        "  mapping = {')': '(','}': '{',']': '['}\n",
        "  for char in s:\n",
        "    if char in mapping:\n",
        "      top_element = stack.pop() if stack else '#'\n",
        "      if mapping[char] != top_element:\n",
        "        return False\n",
        "    else:\n",
        "      stack.append(char)\n",
        "  return not stack\n",
        "s = \"({[]})\"\n",
        "print(is_valid_parentheses(s))"
      ],
      "metadata": {
        "colab": {
          "base_uri": "https://localhost:8080/"
        },
        "id": "nhVAaktzvwRj",
        "outputId": "0578dc01-3ae8-4dfa-e183-2fb3c19af9ee"
      },
      "execution_count": 5,
      "outputs": [
        {
          "output_type": "stream",
          "name": "stdout",
          "text": [
            "True\n"
          ]
        }
      ]
    },
    {
      "cell_type": "markdown",
      "source": [
        "**5.Group Anagram**"
      ],
      "metadata": {
        "id": "MLa6PR4Myj1h"
      }
    },
    {
      "cell_type": "markdown",
      "source": [
        "Group anagrams from a list of strings."
      ],
      "metadata": {
        "id": "gE-FDoJ6ynad"
      }
    },
    {
      "cell_type": "code",
      "source": [
        "from collections import defaultdict\n",
        "\n",
        "def group_anagrams(strs):\n",
        "  anagrams = defaultdict(list)\n",
        "  for s in strs:\n",
        "    sorted_s = ''.join(sorted(s))\n",
        "    anagrams[sorted_s].append(s)\n",
        "  return list(anagrams.values())\n",
        "\n",
        "strs = [\"eat\",\"tea\",\"tan\",\"ate\",\"nat\",\"bat\"]\n",
        "print(group_anagrams(strs))"
      ],
      "metadata": {
        "colab": {
          "base_uri": "https://localhost:8080/"
        },
        "id": "5DBUrSBrxq2l",
        "outputId": "bfd72d4a-71c5-4628-de3b-0c43b597cb81"
      },
      "execution_count": 6,
      "outputs": [
        {
          "output_type": "stream",
          "name": "stdout",
          "text": [
            "[['eat', 'tea', 'ate'], ['tan', 'nat'], ['bat']]\n"
          ]
        }
      ]
    },
    {
      "cell_type": "code",
      "source": [],
      "metadata": {
        "id": "15AZG2Bgy-nB"
      },
      "execution_count": null,
      "outputs": []
    }
  ]
}