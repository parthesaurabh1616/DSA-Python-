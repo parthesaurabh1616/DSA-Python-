{
  "nbformat": 4,
  "nbformat_minor": 0,
  "metadata": {
    "colab": {
      "provenance": []
    },
    "kernelspec": {
      "name": "python3",
      "display_name": "Python 3"
    },
    "language_info": {
      "name": "python"
    }
  },
  "cells": [
    {
      "cell_type": "markdown",
      "source": [
        "**1] Traversal: Iterating through each character in the string.**"
      ],
      "metadata": {
        "id": "vnBiCrMmqez3"
      }
    },
    {
      "cell_type": "markdown",
      "source": [
        "Print all characters in the string."
      ],
      "metadata": {
        "id": "iWyqEEPQqqAJ"
      }
    },
    {
      "cell_type": "code",
      "execution_count": 1,
      "metadata": {
        "colab": {
          "base_uri": "https://localhost:8080/"
        },
        "id": "lx7u2tEBqZ_D",
        "outputId": "1b3dfcd2-ca65-4bcf-a210-02b576e58841"
      },
      "outputs": [
        {
          "output_type": "stream",
          "name": "stdout",
          "text": [
            "H\n",
            "e\n",
            "l\n",
            "l\n",
            "o\n"
          ]
        }
      ],
      "source": [
        "def print_string(s):\n",
        "  for char in s:\n",
        "    print(char)\n",
        "\n",
        "s = \"Hello\"\n",
        "print_string(s)"
      ]
    },
    {
      "cell_type": "markdown",
      "source": [
        "**2] Concatenation: Joining two or more strings.**"
      ],
      "metadata": {
        "id": "0JTtSk3uq2Qf"
      }
    },
    {
      "cell_type": "markdown",
      "source": [
        "Concatenate two strings."
      ],
      "metadata": {
        "id": "gPWOPq6dq55E"
      }
    },
    {
      "cell_type": "code",
      "source": [
        "def concatenate_string(s1, s2):\n",
        "  return s1 + s2\n",
        "\n",
        "s1 = \"Hello\"\n",
        "s2 = \"World\"\n",
        "print(concatenate_string(s1, s2))"
      ],
      "metadata": {
        "colab": {
          "base_uri": "https://localhost:8080/"
        },
        "id": "XeGu5yWzqyzd",
        "outputId": "c8fc075f-1ba9-4495-c5e9-bb0b42ee6968"
      },
      "execution_count": 3,
      "outputs": [
        {
          "output_type": "stream",
          "name": "stdout",
          "text": [
            "HelloWorld\n"
          ]
        }
      ]
    },
    {
      "cell_type": "markdown",
      "source": [
        "**3] Substring: Extracting a portion of a string.**"
      ],
      "metadata": {
        "id": "qbDDger1rKqx"
      }
    },
    {
      "cell_type": "markdown",
      "source": [
        "Extract a substring from a string."
      ],
      "metadata": {
        "id": "JEr6OwgirRN8"
      }
    },
    {
      "cell_type": "code",
      "source": [
        "def get_substring(s, start, end):\n",
        "  return s[start:end]\n",
        "\n",
        "s = \"Hello World\"\n",
        "print(get_substring(s,0,5))"
      ],
      "metadata": {
        "colab": {
          "base_uri": "https://localhost:8080/"
        },
        "id": "eAo3VsoKrHZN",
        "outputId": "f074a6d1-6e36-4903-e0a4-3886c4d9a975"
      },
      "execution_count": 4,
      "outputs": [
        {
          "output_type": "stream",
          "name": "stdout",
          "text": [
            "Hello\n"
          ]
        }
      ]
    },
    {
      "cell_type": "code",
      "source": [
        "def get_substring(s,end,start):\n",
        "  return s[end:start]\n",
        "\n",
        "s = \"Hello World\"\n",
        "print(get_substring(s,5,11))"
      ],
      "metadata": {
        "colab": {
          "base_uri": "https://localhost:8080/"
        },
        "id": "2dlkis1NrbWI",
        "outputId": "f943969a-0fd4-45f1-b959-bb2fc35e2052"
      },
      "execution_count": 11,
      "outputs": [
        {
          "output_type": "stream",
          "name": "stdout",
          "text": [
            " World\n"
          ]
        }
      ]
    },
    {
      "cell_type": "markdown",
      "source": [
        "**4] Searching: Finding the occurrence of a substring within a string.**"
      ],
      "metadata": {
        "id": "OgErigTsr8Fx"
      }
    },
    {
      "cell_type": "markdown",
      "source": [
        "Find the first occurrence of a substring in a string."
      ],
      "metadata": {
        "id": "-pN05rsHsAIy"
      }
    },
    {
      "cell_type": "code",
      "source": [
        "def find_substring(s,sub):\n",
        "  return s.find(sub)\n",
        "\n",
        "s = \"Hello World\"\n",
        "sub = \"World\"\n",
        "print(find_substring(s, sub))"
      ],
      "metadata": {
        "colab": {
          "base_uri": "https://localhost:8080/"
        },
        "id": "V5pLtp5_rna7",
        "outputId": "6be9a206-600a-4e30-de76-da9573fc51e1"
      },
      "execution_count": 12,
      "outputs": [
        {
          "output_type": "stream",
          "name": "stdout",
          "text": [
            "6\n"
          ]
        }
      ]
    },
    {
      "cell_type": "code",
      "source": [
        "def find_substring(s,sub):\n",
        "  return s.find(sub)\n",
        "\n",
        "s = \"Hello World\"\n",
        "sub = \"Hello\"\n",
        "print(find_substring(s,sub))"
      ],
      "metadata": {
        "colab": {
          "base_uri": "https://localhost:8080/"
        },
        "id": "qMRvP-cvsLcg",
        "outputId": "1362d226-bd98-4c1e-c4b8-fabc9ee52e1d"
      },
      "execution_count": 13,
      "outputs": [
        {
          "output_type": "stream",
          "name": "stdout",
          "text": [
            "0\n"
          ]
        }
      ]
    },
    {
      "cell_type": "code",
      "source": [],
      "metadata": {
        "id": "frZnwXPrscjl"
      },
      "execution_count": null,
      "outputs": []
    }
  ]
}