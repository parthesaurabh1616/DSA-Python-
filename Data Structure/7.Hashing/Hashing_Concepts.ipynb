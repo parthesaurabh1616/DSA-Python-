{
  "nbformat": 4,
  "nbformat_minor": 0,
  "metadata": {
    "colab": {
      "provenance": []
    },
    "kernelspec": {
      "name": "python3",
      "display_name": "Python 3"
    },
    "language_info": {
      "name": "python"
    }
  },
  "cells": [
    {
      "cell_type": "markdown",
      "source": [
        "**1. Two Sum**"
      ],
      "metadata": {
        "id": "vXNKIarpAjzr"
      }
    },
    {
      "cell_type": "markdown",
      "source": [
        "**Problem:** Use a hash map to find two numbers that add up to a specific target.\n",
        "\n",
        "**Explanation:**\n",
        "\n",
        "- We use a hash map (dictionary in Python) to store the difference between the target and the current number.\n",
        "\n",
        "- As we iterate through the array, we check if the current number is already in the hash map."
      ],
      "metadata": {
        "id": "3oIfyP5pAnf8"
      }
    },
    {
      "cell_type": "code",
      "execution_count": 1,
      "metadata": {
        "colab": {
          "base_uri": "https://localhost:8080/"
        },
        "id": "AveZ69fLAec9",
        "outputId": "6942f089-09d4-488c-eb53-8211822d7063"
      },
      "outputs": [
        {
          "output_type": "stream",
          "name": "stdout",
          "text": [
            "[0, 1]\n"
          ]
        }
      ],
      "source": [
        "def two_sum(nums, target):\n",
        "  # Create a dictionary to store the difference and index\n",
        "  seen = {}\n",
        "  for i, num in enumerate(nums):\n",
        "    # Calculate the difference needed to reach the target\n",
        "    diff = target - num\n",
        "    if diff in seen:\n",
        "      # If the difference is in the dictionary, return the indices\n",
        "      return [seen[diff], i]\n",
        "\n",
        "    # Store the index of the current number in the dictionary\n",
        "    seen[num] = i\n",
        "\n",
        "  return []\n",
        "\n",
        "# Example usage\n",
        "nums = [2,7,11,15]\n",
        "target = 9\n",
        "print(two_sum(nums,target))"
      ]
    },
    {
      "cell_type": "markdown",
      "source": [
        "**Explanation of Functions and Methods:**\n",
        "\n",
        "- **enumerate(nums):** Iterates through the list nums, providing both the index i and the element num.\n",
        "\n",
        "- **seen = {}:** Initializes an empty dictionary to store the difference and index.\n",
        "\n",
        "- **diff = target - num:** Calculates the difference needed to reach the target.\n",
        "\n",
        "- **if diff in seen:** Checks if the difference is already in the dictionary.\n",
        "\n",
        "- **seen[num] = i:** Stores the index of the current number in the dictionary."
      ],
      "metadata": {
        "id": "yKcEilbsBsDs"
      }
    },
    {
      "cell_type": "markdown",
      "source": [
        "**2. Group Anagrams**"
      ],
      "metadata": {
        "id": "vqfaVE1aCanz"
      }
    },
    {
      "cell_type": "markdown",
      "source": [
        "**Problem**: Group anagrams from a list of strings.\n",
        "\n",
        "**Explanation:**\n",
        "\n",
        "- Anagrams are words that have the same characters in the same frequency.\n",
        "\n",
        "- We use a hash map to group words that, when sorted, are identical."
      ],
      "metadata": {
        "id": "RZEOYrR9CeaL"
      }
    },
    {
      "cell_type": "code",
      "source": [
        "from collections import defaultdict\n",
        "\n",
        "def group_anagrams(strs):\n",
        "  # Create a default dictionary to store anagram groups\n",
        "  anagrams = defaultdict(list)\n",
        "  for s in strs:\n",
        "    # Sort the string and use it as the key\n",
        "    sorted_s = ''.join(sorted(s))\n",
        "    # Append the original string to the list corresponding to the sorted key\n",
        "    anagrams[sorted_s].append(s)\n",
        "\n",
        "  # Return the grouped anagrams as a list of lists\n",
        "  return list(anagrams.values())\n",
        "\n",
        "strs = [\"eat\",\"tea\",\"tan\",\"ate\",\"nat\",\"bat\"]\n",
        "print(group_anagrams(strs))"
      ],
      "metadata": {
        "colab": {
          "base_uri": "https://localhost:8080/"
        },
        "id": "0nqfFFB_BfHF",
        "outputId": "0a98719b-98de-469d-ddb3-93d3e26c27c1"
      },
      "execution_count": 2,
      "outputs": [
        {
          "output_type": "stream",
          "name": "stdout",
          "text": [
            "[['eat', 'tea', 'ate'], ['tan', 'nat'], ['bat']]\n"
          ]
        }
      ]
    },
    {
      "cell_type": "markdown",
      "source": [
        "**Explanation of Functions and Methods:**\n",
        "\n",
        "- **from collections import defaultdict:** Imports defaultdict from the collections module.\n",
        "\n",
        "- **defaultdict(list):** Creates a default dictionary where each value is initialized as a list.\n",
        "\n",
        "- **''.join(sorted(s)):** Sorts the string s and joins the characters back into a single string.\n",
        "\n",
        "- **anagrams[sorted_s].append(s):** Appends the original string s to the list corresponding to the sorted key sorted_s.\n",
        "\n",
        "- **list(anagrams.values()):** Converts the grouped anagrams into a list of lists."
      ],
      "metadata": {
        "id": "kk4F_553FBgQ"
      }
    },
    {
      "cell_type": "markdown",
      "source": [
        "**3. Top K Frequent Elements**"
      ],
      "metadata": {
        "id": "K9aLZVO4FY_q"
      }
    },
    {
      "cell_type": "markdown",
      "source": [
        "**Problem:** Find the k most frequent elements in an array."
      ],
      "metadata": {
        "id": "wI9BPvBEFbgp"
      }
    },
    {
      "cell_type": "markdown",
      "source": [
        "**Explanation:**\n",
        "\n",
        "- We use a hash map to count the frequency of each element.\n",
        "\n",
        "- Then, we use a heap to find the top k frequent elements."
      ],
      "metadata": {
        "id": "GVH--dK6FerI"
      }
    },
    {
      "cell_type": "code",
      "source": [
        "import heapq\n",
        "from collections import Counter\n",
        "\n",
        "def top_k_frequent(nums, k):\n",
        "  # Create a counter to count the frequency of each element\n",
        "  count = Counter(nums)\n",
        "  # Use a heap to find the k most frequent elements\n",
        "  return heapq.nlargest(k, count.keys(), key=count.get)\n",
        "\n",
        "nums = [1,1,1,2,2,3]\n",
        "k = 2\n",
        "print(top_k_frequent(nums, k))"
      ],
      "metadata": {
        "colab": {
          "base_uri": "https://localhost:8080/"
        },
        "id": "ceQt2ZaRE2-u",
        "outputId": "6ccc474f-0782-4802-a8f3-f348488149fd"
      },
      "execution_count": 3,
      "outputs": [
        {
          "output_type": "stream",
          "name": "stdout",
          "text": [
            "[1, 2]\n"
          ]
        }
      ]
    },
    {
      "cell_type": "markdown",
      "source": [
        "**Explanation of Functions and Methods:**\n",
        "\n",
        "- **import heapq:** Imports the heapq module for heap operations.\n",
        "\n",
        "- **from collections import Counter:** Imports Counter from the collections module.\n",
        "\n",
        "- **Counter(nums):** Creates a counter to count the frequency of each element in nums.\n",
        "\n",
        "- **heapq.nlargest(k, count.keys(), key=count.get):** Finds the k most frequent elements using a heap. **count.keys()** provides the elements, and **count.get** provides the frequency as the key for comparison."
      ],
      "metadata": {
        "id": "HyH1EDIHGR1E"
      }
    },
    {
      "cell_type": "code",
      "source": [],
      "metadata": {
        "id": "UKASRQl8F_4-"
      },
      "execution_count": null,
      "outputs": []
    }
  ]
}