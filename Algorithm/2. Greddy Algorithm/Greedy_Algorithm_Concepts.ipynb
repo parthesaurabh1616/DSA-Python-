{
  "nbformat": 4,
  "nbformat_minor": 0,
  "metadata": {
    "colab": {
      "provenance": []
    },
    "kernelspec": {
      "name": "python3",
      "display_name": "Python 3"
    },
    "language_info": {
      "name": "python"
    }
  },
  "cells": [
    {
      "cell_type": "markdown",
      "source": [
        "**1. Activity Selection Problem**\n",
        "\n",
        "**Problem:** Select the maximum number of activities that don’t overlap in their timings."
      ],
      "metadata": {
        "id": "OG5kR1pin0Gc"
      }
    },
    {
      "cell_type": "markdown",
      "source": [
        "**Explanation:**\n",
        "\n",
        "- Sort activities based on their finishing times.\n",
        "\n",
        "- Always select the activity that finishes first and move to the next non-overlapping activity."
      ],
      "metadata": {
        "id": "eZdOVFO8n-hL"
      }
    },
    {
      "cell_type": "code",
      "execution_count": 3,
      "metadata": {
        "colab": {
          "base_uri": "https://localhost:8080/"
        },
        "id": "ZFckUIHznw_K",
        "outputId": "88398ca4-a5b5-409e-d949-246b62064edd"
      },
      "outputs": [
        {
          "output_type": "stream",
          "name": "stdout",
          "text": [
            "[0, 1, 3, 4]\n"
          ]
        }
      ],
      "source": [
        "def activity_selection(start, end):\n",
        "  n = len(start)\n",
        "  activities = sorted(zip(start, end), key=lambda x: x[1])\n",
        "  selected = [0]\n",
        "\n",
        "  last_end = activities[0][1]\n",
        "  for i in range(1, n):\n",
        "    if activities[i][0] >= last_end:\n",
        "      selected.append(i)\n",
        "      last_end = activities[i][1]\n",
        "\n",
        "  return selected\n",
        "\n",
        "start = [1,3,0,5,8,5]\n",
        "end = [2,4,6,7,9,9]\n",
        "print(activity_selection(start, end))"
      ]
    },
    {
      "cell_type": "markdown",
      "source": [
        "**zip(start, end):** Combines start and end times into pairs.\n",
        "\n",
        "**sorted(..., key=lambda x: x[1]):** Sorts activities by their finish times.\n",
        "\n",
        "**selected.append(i):** Adds the index of the selected activity to the list.\n",
        "\n",
        "**if activities[i][0] >= last_end:** Checks if the current activity can be selected without overlapping."
      ],
      "metadata": {
        "id": "WDPDhhpvq6CF"
      }
    },
    {
      "cell_type": "markdown",
      "source": [
        "**2. Huffman Coding**"
      ],
      "metadata": {
        "id": "chwwMnb8rCjS"
      }
    },
    {
      "cell_type": "markdown",
      "source": [
        "**Problem:** Build an optimal binary tree for data compression."
      ],
      "metadata": {
        "id": "GTtTQDEyrFgn"
      }
    },
    {
      "cell_type": "markdown",
      "source": [
        "**Explanation:**\n",
        "\n",
        "- Use a min-heap to create a tree structure where the most frequent characters have the shortest codes.\n",
        "\n",
        "- Each internal node represents the sum of the frequencies of its children."
      ],
      "metadata": {
        "id": "FGxrIJbJrN4W"
      }
    },
    {
      "cell_type": "code",
      "source": [
        "import heapq\n",
        "\n",
        "class Node:\n",
        "  def __init__(self, char, freq):\n",
        "    self.char = char\n",
        "    self.freq = freq\n",
        "    self.left = None\n",
        "    self.right = None\n",
        "\n",
        "  def __lt__(self, other):\n",
        "    return self.freq < other.freq\n",
        "\n",
        "def huffmax_coding(char_freq):\n",
        "  heap = [Node(char, freq) for char, freq in char_freq]\n",
        "  heapq.heapify(heap)\n",
        "\n",
        "  while len(heap) > 1:\n",
        "    left = heapq.heappop(heap)\n",
        "    right = heapq.heappop(heap)\n",
        "    merged = Node(None, left.freq + right.freq)\n",
        "    merged.left = left\n",
        "    merged.right = right\n",
        "    heapq.heappush(heap, merged)\n",
        "\n",
        "  return heap[0]\n",
        "\n",
        "def print_huffman_codes(root, code=\"\"):\n",
        "  if root:\n",
        "    if root.char:\n",
        "      print(f\"{root.char}: {code}\")\n",
        "    print_huffman_codes(root.left, code + \"0\")\n",
        "    print_huffman_codes(root.right, code + \"1\")\n",
        "\n",
        "char_freq = [('a', 5), ('b', 9), ('c', 12),('d', 13),('e', 16), ('f', 45)]\n",
        "root = huffmax_coding(char_freq)\n",
        "print_huffman_codes(root)"
      ],
      "metadata": {
        "colab": {
          "base_uri": "https://localhost:8080/"
        },
        "id": "1cMKRs1Fod6O",
        "outputId": "f89802d9-4fd6-4ac9-8fbd-2826ed0a88c9"
      },
      "execution_count": 4,
      "outputs": [
        {
          "output_type": "stream",
          "name": "stdout",
          "text": [
            "f: 0\n",
            "c: 100\n",
            "d: 101\n",
            "a: 1100\n",
            "b: 1101\n",
            "e: 111\n"
          ]
        }
      ]
    },
    {
      "cell_type": "markdown",
      "source": [
        "**3. Minimum Spanning Tree (Prim's Algorithm)**"
      ],
      "metadata": {
        "id": "ExQpRgqhwlMf"
      }
    },
    {
      "cell_type": "markdown",
      "source": [
        "**Problem:** Find the minimum spanning tree (MST) of a graph using Prim's algorithm."
      ],
      "metadata": {
        "id": "PRESyyM_woP-"
      }
    },
    {
      "cell_type": "markdown",
      "source": [
        "**Explanation:**\n",
        "\n",
        "- Use a priority queue to pick the minimum weight edge at each step.\n",
        "\n",
        "- Add the corresponding vertex to the MST set."
      ],
      "metadata": {
        "id": "GNTd0Z0Mwt9y"
      }
    },
    {
      "cell_type": "code",
      "source": [
        "import heapq\n",
        "from collections import defaultdict\n",
        "\n",
        "def prim_mst(graph, start):\n",
        "  mst = []\n",
        "  visited = set()\n",
        "  min_heap = [(0, start)]\n",
        "\n",
        "  while min_heap:\n",
        "    weight, vertex = heapq.heappop(min_heap)\n",
        "    if vertex not in visited:\n",
        "      visited.add(vertex)\n",
        "      mst.append((vertex, weight))\n",
        "\n",
        "      for neighbor, w in graph[vertex]:\n",
        "        if neighbor not in visited:\n",
        "          heapq.heappush(min_heap, (w, neighbor))\n",
        "\n",
        "  return mst\n",
        "\n",
        "graph = {\n",
        "    0: [(1,4), (2,3)],\n",
        "    1: [(0,4), (2,1),(3,2)],\n",
        "    2: [(0,3),(1,1),(3,4)],\n",
        "    3: [(1,2),(2,4)],\n",
        "}\n",
        "\n",
        "start_vertex = 0\n",
        "print(prim_mst(graph, start_vertex))"
      ],
      "metadata": {
        "colab": {
          "base_uri": "https://localhost:8080/"
        },
        "id": "b7Xt6Z3du8el",
        "outputId": "fa2606a3-1506-4008-a36e-7519ee84e4e6"
      },
      "execution_count": 5,
      "outputs": [
        {
          "output_type": "stream",
          "name": "stdout",
          "text": [
            "[(0, 0), (2, 3), (1, 1), (3, 2)]\n"
          ]
        }
      ]
    },
    {
      "cell_type": "markdown",
      "source": [
        "**Explanation of Functions and Methods:**\n",
        "\n",
        "- **min_heap = [(0, start)]:** Initializes the heap with the start vertex and weight 0.\n",
        "\n",
        "- **heapq.heappop(min_heap):** Pops the smallest weight edge from the heap.\n",
        "\n",
        "- **mst.append((vertex, weight)):** Adds the vertex and its weight to the MST.\n",
        "\n",
        "- **heapq.heappush(min_heap, (w, neighbor)):** Adds a neighboring edge to the heap."
      ],
      "metadata": {
        "id": "pmYvMKAL3_SH"
      }
    },
    {
      "cell_type": "markdown",
      "source": [
        "**4. Fractional Knapsack Problem**"
      ],
      "metadata": {
        "id": "HW5IFZu64aAz"
      }
    },
    {
      "cell_type": "markdown",
      "source": [
        "**Problem:** Find the maximum value of items that can fit into a knapsack with a given capacity. Items can be broken into fractions."
      ],
      "metadata": {
        "id": "dADgyUEW4dHZ"
      }
    },
    {
      "cell_type": "markdown",
      "source": [
        "**Explanation:**\n",
        "\n",
        "- Sort items by their value-to-weight ratio.\n",
        "\n",
        "- Add items fully until the capacity is reached; then take a fraction of the next item."
      ],
      "metadata": {
        "id": "br6h6ikO4gbn"
      }
    },
    {
      "cell_type": "code",
      "source": [
        "def fractional_knapsack(values, wieghts, capacity):\n",
        "  items = sorted(zip(values, weights), key=lambda x: x[0] / x[1], reverse=True)\n",
        "  total_value = 0\n",
        "\n",
        "  for value, weight in items:\n",
        "    if capacity >= weight:\n",
        "      total_value += value\n",
        "      capacity -= weight\n",
        "    else:\n",
        "      total_value += value * (capacity / weight)\n",
        "      break\n",
        "  return total_value\n",
        "\n",
        "values = [60, 100, 120]\n",
        "weights = [10, 20, 30]\n",
        "capacity = 50\n",
        "print(fractional_knapsack(values, weights, capacity))"
      ],
      "metadata": {
        "colab": {
          "base_uri": "https://localhost:8080/"
        },
        "id": "kmEyRafh36Os",
        "outputId": "f54340bd-0fcb-4e94-fefd-683b84d7ed70"
      },
      "execution_count": 6,
      "outputs": [
        {
          "output_type": "stream",
          "name": "stdout",
          "text": [
            "240.0\n"
          ]
        }
      ]
    },
    {
      "cell_type": "code",
      "source": [],
      "metadata": {
        "id": "p4uzEvij5WQJ"
      },
      "execution_count": null,
      "outputs": []
    }
  ]
}