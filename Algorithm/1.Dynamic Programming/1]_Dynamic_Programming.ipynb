{
  "nbformat": 4,
  "nbformat_minor": 0,
  "metadata": {
    "colab": {
      "provenance": []
    },
    "kernelspec": {
      "name": "python3",
      "display_name": "Python 3"
    },
    "language_info": {
      "name": "python"
    }
  },
  "cells": [
    {
      "cell_type": "markdown",
      "source": [
        "**1. Fibonacci Number**"
      ],
      "metadata": {
        "id": "zkDJ3lTencQv"
      }
    },
    {
      "cell_type": "markdown",
      "source": [
        "**Problem:** Calculate the nth Fibonacci number using DP."
      ],
      "metadata": {
        "id": "tWDMRoPkngVq"
      }
    },
    {
      "cell_type": "markdown",
      "source": [
        "**Explanation:** The Fibonacci sequence is defined as:\n",
        "\n",
        "- F(0) = 0, F(1) = 1\n",
        "\n",
        "- F(n) = F(n-1) + F(n-2) for n ≥ 2\n",
        "\n",
        "- We use an array to store the Fibonacci numbers up to n."
      ],
      "metadata": {
        "id": "TEfH6bYXnlvF"
      }
    },
    {
      "cell_type": "code",
      "execution_count": 1,
      "metadata": {
        "colab": {
          "base_uri": "https://localhost:8080/"
        },
        "id": "JKOQuqlum_lI",
        "outputId": "5a0f74c1-6dff-4810-8c5e-450843ff98c7"
      },
      "outputs": [
        {
          "output_type": "stream",
          "name": "stdout",
          "text": [
            "55\n"
          ]
        }
      ],
      "source": [
        "def fibonacci(n):\n",
        "  dp = [0] * (n + 1)\n",
        "  if n >= 1:\n",
        "    dp[1] = 1\n",
        "  for i in range(2, n + 1):\n",
        "    dp[i] = dp[i - 1] + dp[i - 2]\n",
        "  return dp[n]\n",
        "\n",
        "n = 10\n",
        "print(fibonacci(n))"
      ]
    },
    {
      "cell_type": "markdown",
      "source": [
        "**Explanation of Functions and Methods:**\n",
        "\n",
        "- dp = [0] * (n + 1):  Initializes an array of size n+1 with all elements set to 0.\n",
        "\n",
        "- dp[1] = 1: Sets the first Fibonacci number.\n",
        "\n",
        "- for i in range(2, n + 1): Iterates from 2 to n to calculate Fibonacci numbers.\n",
        "\n",
        "- dp[i] = dp[i - 1] + dp[i - 2]: Calculates the ith Fibonacci number by summing the previous two numbers."
      ],
      "metadata": {
        "id": "kzj8Ya80oXKR"
      }
    },
    {
      "cell_type": "markdown",
      "source": [
        "**2. Longest Common Subsequence (LCS)**"
      ],
      "metadata": {
        "id": "AYJDEeteok4T"
      }
    },
    {
      "cell_type": "markdown",
      "source": [
        "**Problem:** Find the length of the longest common subsequence of two strings."
      ],
      "metadata": {
        "id": "74fBqxe7opeS"
      }
    },
    {
      "cell_type": "markdown",
      "source": [
        "**Explanation:**\n",
        "\n",
        "- We use a 2D array to store the lengths of LCS of substrings.\n",
        "\n",
        "- If characters match, we add 1 to the LCS of the previous substrings."
      ],
      "metadata": {
        "id": "vpGiQ0bvoymY"
      }
    },
    {
      "cell_type": "code",
      "source": [
        "def longest_common_subsequence(text1, text2):\n",
        "  m,n = len(text1), len(text2)\n",
        "  dp = [[0] * (n + 1) for _ in range(m + 1)]\n",
        "\n",
        "  for i in range(1, m + 1):\n",
        "    for j in range(1, n + 1):\n",
        "      if text1[i - 1] == text2[j - 1]:\n",
        "        dp[i][j] = dp[i - 1][j - 1] + 1\n",
        "      else:\n",
        "        dp[i][j] = max(dp[i - 1][j], dp[i][j - 1])\n",
        "\n",
        "  return dp[m][n]\n",
        "\n",
        "text1 = \"abcde\"\n",
        "text2 = \"ace\"\n",
        "print(longest_common_subsequence(text1, text2))"
      ],
      "metadata": {
        "colab": {
          "base_uri": "https://localhost:8080/"
        },
        "id": "trLBYPoYoBQv",
        "outputId": "567d32fc-2292-4209-b1c1-7f3f1123c8d3"
      },
      "execution_count": 2,
      "outputs": [
        {
          "output_type": "stream",
          "name": "stdout",
          "text": [
            "3\n"
          ]
        }
      ]
    },
    {
      "cell_type": "markdown",
      "source": [
        "**Explanation of Functions and Methods:**\n",
        "\n",
        "- m, n = len(text1), len(text2): Gets the lengths of the input strings.\n",
        "\n",
        "- dp = [[0] * (n + 1) for _ in range(m + 1)]: Initializes a 2D array of size (m+1) x (n+1) with all elements set to 0.\n",
        "\n",
        "- for i in range(1, m + 1), for j in range(1, n + 1): Iterates through both strings.\n",
        "\n",
        "- if text1[i - 1] == text2[j - 1]: Checks if characters match.\n",
        "\n",
        "- dp[i][j] = dp[i - 1][j - 1] + 1: Adds 1 to the LCS of the previous substrings.\n",
        "\n",
        "- dp[i][j] = max(dp[i - 1][j], dp[i][j - 1]): Takes the maximum LCS if characters don't match."
      ],
      "metadata": {
        "id": "vYDNsiVaprIP"
      }
    },
    {
      "cell_type": "markdown",
      "source": [
        "**3. 0/1 Knapsack Problem**"
      ],
      "metadata": {
        "id": "NTUPvsO8pxvg"
      }
    },
    {
      "cell_type": "markdown",
      "source": [
        "**Problem:** Find the maximum value that can be put in a knapsack of a given capacity."
      ],
      "metadata": {
        "id": "OSbKFE-Gp1po"
      }
    },
    {
      "cell_type": "markdown",
      "source": [
        "**Explanation:**\n",
        "\n",
        "- We use a 2D array to store the maximum value for each weight capacity and item combination."
      ],
      "metadata": {
        "id": "sP_js8dDp5vM"
      }
    },
    {
      "cell_type": "code",
      "source": [
        "def knapsack(weights, values, capacity):\n",
        "  n = len(weights)\n",
        "  dp = [[0] * (capacity + 1) for _ in range(n + 1)]\n",
        "\n",
        "  for i in range(1, n + 1):\n",
        "    for w in range(1, capacity + 1):\n",
        "      if weights[i - 1] <= w:\n",
        "        dp[i][w] = max(dp[i - 1][w], dp[i - 1][w - weights[i - 1]] + values[i - 1])\n",
        "      else:\n",
        "        dp[i][w] = dp[i - 1][w]\n",
        "\n",
        "  return dp[n][capacity]\n",
        "\n",
        "weights = [1,2,3]\n",
        "values = [10,20,30]\n",
        "capacity = 5\n",
        "print(knapsack(weights, values, capacity))"
      ],
      "metadata": {
        "colab": {
          "base_uri": "https://localhost:8080/"
        },
        "id": "txDwRjWypnU5",
        "outputId": "6c32ba92-e169-4e71-9f9b-b6399aae4ae5"
      },
      "execution_count": 3,
      "outputs": [
        {
          "output_type": "stream",
          "name": "stdout",
          "text": [
            "50\n"
          ]
        }
      ]
    },
    {
      "cell_type": "markdown",
      "source": [
        "**Explanation of Functions and Methods:**\n",
        "\n",
        "- n = len(weights): Gets the number of items.\n",
        "\n",
        "- dp = [[0] * (capacity + 1) for _ in range(n + 1)]: Initializes a 2D array of size (n+1) x (capacity+1) with all elements set to 0.\n",
        "\n",
        "- for i in range(1, n + 1), for w in range(1, capacity + 1): Iterates through items and capacities.\n",
        "\n",
        "- if weights[i - 1] <= w: Checks if the current item's weight is less than or equal to the current capacity.\n",
        "\n",
        "- dp[i][w] = max(dp[i - 1][w], dp[i - 1][w - weights[i - 1]] + values[i - 1]): Takes the maximum value between not including and including the current item."
      ],
      "metadata": {
        "id": "AzPhXF4pq-fl"
      }
    },
    {
      "cell_type": "markdown",
      "source": [
        "**4. Longest Increasing Subsequence (LIS)**"
      ],
      "metadata": {
        "id": "R-PD0uPSrGxc"
      }
    },
    {
      "cell_type": "markdown",
      "source": [
        "**Problem:** Find the length of the longest increasing subsequence in an array"
      ],
      "metadata": {
        "id": "RCdeoBibrdYT"
      }
    },
    {
      "cell_type": "markdown",
      "source": [
        "**Explanation:**\n",
        "\n",
        "- We use an array to store the length of the LIS ending at each index.\n",
        "\n",
        "- For each element, we check all previous elements to update the LIS length."
      ],
      "metadata": {
        "id": "G8k9yCrVrf76"
      }
    },
    {
      "cell_type": "code",
      "source": [
        "def longest_increasing_subsequence(nums):\n",
        "  n = len(nums)\n",
        "  if n == 0:\n",
        "    return 0\n",
        "\n",
        "  dp = [1] * n\n",
        "\n",
        "  for i in range(1, n):\n",
        "    for j in range(i):\n",
        "      if nums[i] > nums[j]:\n",
        "        dp[i] = max(dp[i], dp[j] + 1)\n",
        "  return max(dp)\n",
        "\n",
        "nums = [10,9,2,5,3,7,101,18]\n",
        "print(longest_increasing_subsequence(nums))"
      ],
      "metadata": {
        "colab": {
          "base_uri": "https://localhost:8080/"
        },
        "id": "DkbJ33b1q8GA",
        "outputId": "e2b0d735-5aff-4c3e-988b-93fd6db7a954"
      },
      "execution_count": 4,
      "outputs": [
        {
          "output_type": "stream",
          "name": "stdout",
          "text": [
            "4\n"
          ]
        }
      ]
    },
    {
      "cell_type": "markdown",
      "source": [
        "**Explanation of Functions and Methods:**\n",
        "\n",
        "- dp = [1] * n: Initializes an array of size n with all elements set to 1, representing the minimum LIS length.\n",
        "\n",
        "- for i in range(1, n), for j in range(i): Iterates through the array to compare elements.\n",
        "\n",
        "- if nums[i] > nums[j]: Checks if the current element is greater than the previous element.\n",
        "\n",
        "- dp[i] = max(dp[i], dp[j] + 1): Updates the LIS length ending at the current index."
      ],
      "metadata": {
        "id": "er9M-Rwkz2T0"
      }
    },
    {
      "cell_type": "markdown",
      "source": [
        "**5.Coin Change**"
      ],
      "metadata": {
        "id": "P_GtHYwIz7Ww"
      }
    },
    {
      "cell_type": "markdown",
      "source": [
        "**Problem:** Find the minimum number of coins needed to make up a given amount."
      ],
      "metadata": {
        "id": "Rp1EJUIzz-VE"
      }
    },
    {
      "cell_type": "markdown",
      "source": [
        "**Explanation:**\n",
        "\n",
        "- We use an array to store the minimum number of coins needed for each amount up to the target amount.\n",
        "\n",
        "- For each coin, we update the minimum number of coins needed for each amount."
      ],
      "metadata": {
        "id": "WhwMjiKq0XON"
      }
    },
    {
      "cell_type": "code",
      "source": [
        "def coin_change(coins, amount):\n",
        "  dp = [float('inf')] * (amount + 1)\n",
        "  dp[0] = 0\n",
        "\n",
        "  for coin in coins:\n",
        "    for x in range(coin, amount + 1):\n",
        "      dp[x] = min(dp[x], dp[x - coin] + 1)\n",
        "\n",
        "  return dp[amount] if dp[amount] != float('inf') else -1\n",
        "\n",
        "coins = [1,2,5]\n",
        "amount = 11\n",
        "print(coin_change(coins, amount))"
      ],
      "metadata": {
        "colab": {
          "base_uri": "https://localhost:8080/"
        },
        "id": "R9rVFRrtz0cX",
        "outputId": "c8c0cff0-c359-4d57-fe91-2cbc5242c9e3"
      },
      "execution_count": 5,
      "outputs": [
        {
          "output_type": "stream",
          "name": "stdout",
          "text": [
            "3\n"
          ]
        }
      ]
    },
    {
      "cell_type": "markdown",
      "source": [
        "**Explanation of Functions and Methods:**\n",
        "\n",
        "- dp = [float('inf')] * (amount + 1): Initializes an array of size amount+1 with all elements set to infinity, representing the minimum number of coins needed.\n",
        "\n",
        "- dp[0] = 0: Sets the base case where 0 coins are needed for amount 0.\n",
        "\n",
        "- for coin in coins, for x in range(coin, amount + 1): Iterates through each coin and amount.\n",
        "\n",
        "- dp[x] = min(dp[x], dp[x - coin] + 1): Updates the minimum number of coins needed for the current amount."
      ],
      "metadata": {
        "id": "z--4aupe1BVY"
      }
    },
    {
      "cell_type": "code",
      "source": [],
      "metadata": {
        "id": "nt6GCgH609C5"
      },
      "execution_count": null,
      "outputs": []
    }
  ]
}